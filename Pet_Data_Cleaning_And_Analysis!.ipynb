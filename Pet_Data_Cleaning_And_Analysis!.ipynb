{
 "cells": [
  {
   "cell_type": "markdown",
   "metadata": {},
   "source": [
    "# Data Exploration , Cleansing and Data Preparation\n",
    "\n",
    "1. Import packages\n",
    "2. Testing null value\n",
    "3. Conduct some data engineering"
   ]
  },
  {
   "cell_type": "markdown",
   "metadata": {},
   "source": [
    "###  <span style=\"color:blue\">Import Libraries</span> \n",
    "\n",
    "Import the libraries you'll need for your analysis. You will need the following libraries:  \n",
    "\n",
    "**Matplotlib** - This is Python's basic plotting library.\n",
    "You'll use the pyplot and dates function collections from matplotlib throughout this case study so we encourage you to important these two specific libraries with their own aliases. Also, include the line **'%matplotlib inline'** so that your graphs are easily included in your notebook. \n",
    "\n",
    "Don't forget that to modify the matplotlib plot sizes so they're at a comfortable reading size you should use the following:\n",
    "\n",
    "**import matplotlib as mpl**\n",
    "\n",
    "**mpl.rcParams['figure.figsize'] = (20,5)**\n",
    "\n",
    "**Seaborn** - This library will enable you to create aesthetically pleasing plots.\n",
    "\n",
    "**Pandas** - This library will enable you to view and manipulate your data in a tabular format.\n",
    "\n",
    "**statsmodels.api** - This library will enable you to create statistical models. You will need this library when performing regession analysis in Part 2 of this case study."
   ]
  },
  {
   "cell_type": "code",
   "execution_count": 115,
   "metadata": {},
   "outputs": [
    {
     "name": "stdout",
     "output_type": "stream",
     "text": [
      "Requirement already satisfied: pandas in c:\\users\\16508\\anaconda3\\envs\\lib\\site-packages (1.0.5)\n",
      "Requirement already satisfied: pytz>=2017.2 in c:\\users\\16508\\anaconda3\\envs\\lib\\site-packages (from pandas) (2020.1)\n",
      "Requirement already satisfied: python-dateutil>=2.6.1 in c:\\users\\16508\\anaconda3\\envs\\lib\\site-packages (from pandas) (2.8.1)\n",
      "Requirement already satisfied: numpy>=1.13.3 in c:\\users\\16508\\anaconda3\\envs\\lib\\site-packages (from pandas) (1.18.5)\n",
      "Requirement already satisfied: six>=1.5 in c:\\users\\16508\\anaconda3\\envs\\lib\\site-packages (from python-dateutil>=2.6.1->pandas) (1.15.0)\n",
      "Note: you may need to restart the kernel to use updated packages.\n"
     ]
    }
   ],
   "source": [
    "pip install pandas"
   ]
  },
  {
   "cell_type": "code",
   "execution_count": 116,
   "metadata": {},
   "outputs": [
    {
     "name": "stdout",
     "output_type": "stream",
     "text": [
      "Requirement already satisfied: plotly in c:\\users\\16508\\anaconda3\\envs\\lib\\site-packages (5.7.0)\n",
      "Requirement already satisfied: tenacity>=6.2.0 in c:\\users\\16508\\anaconda3\\envs\\lib\\site-packages (from plotly) (8.0.1)\n",
      "Requirement already satisfied: six in c:\\users\\16508\\anaconda3\\envs\\lib\\site-packages (from plotly) (1.15.0)\n"
     ]
    }
   ],
   "source": [
    "!pip install plotly\n"
   ]
  },
  {
   "cell_type": "code",
   "execution_count": 117,
   "metadata": {},
   "outputs": [],
   "source": [
    "import numpy as np\n",
    "import matplotlib as mpl\n",
    "import matplotlib.pyplot as plt \n",
    "import matplotlib.dates as md\n",
    "%matplotlib inline\n",
    "import seaborn as sns\n",
    "import pandas as pd\n",
    "import statsmodels.api as sm\n",
    "from sklearn.preprocessing import LabelEncoder\n",
    "import plotly.express as px"
   ]
  },
  {
   "cell_type": "markdown",
   "metadata": {},
   "source": [
    "## Data description!"
   ]
  },
  {
   "cell_type": "code",
   "execution_count": 118,
   "metadata": {},
   "outputs": [
    {
     "data": {
      "text/plain": [
       "(138118, 15)"
      ]
     },
     "execution_count": 118,
     "metadata": {},
     "output_type": "execute_result"
    }
   ],
   "source": [
    "df_Pet = pd.read_csv(r'C:\\Users\\16508\\Downloads\\Main_Updated_Dataset.csv') \n",
    "df_Pet.shape"
   ]
  },
  {
   "cell_type": "code",
   "execution_count": 119,
   "metadata": {},
   "outputs": [
    {
     "data": {
      "text/html": [
       "<div>\n",
       "<style scoped>\n",
       "    .dataframe tbody tr th:only-of-type {\n",
       "        vertical-align: middle;\n",
       "    }\n",
       "\n",
       "    .dataframe tbody tr th {\n",
       "        vertical-align: top;\n",
       "    }\n",
       "\n",
       "    .dataframe thead th {\n",
       "        text-align: right;\n",
       "    }\n",
       "</style>\n",
       "<table border=\"1\" class=\"dataframe\">\n",
       "  <thead>\n",
       "    <tr style=\"text-align: right;\">\n",
       "      <th></th>\n",
       "      <th>Animal_ID</th>\n",
       "      <th>NAME</th>\n",
       "      <th>Adopted Date</th>\n",
       "      <th>Pet DOB</th>\n",
       "      <th>Status</th>\n",
       "      <th>Adopted_Age_Days</th>\n",
       "      <th>Adopted_Age_Months</th>\n",
       "      <th>Adopted_Age_Years</th>\n",
       "      <th>Outcome_Type</th>\n",
       "      <th>Outcome_Subtype</th>\n",
       "      <th>Animal_Type</th>\n",
       "      <th>Sex_On_Adop</th>\n",
       "      <th>Age_On_Adop</th>\n",
       "      <th>Breed</th>\n",
       "      <th>Color</th>\n",
       "    </tr>\n",
       "  </thead>\n",
       "  <tbody>\n",
       "    <tr>\n",
       "      <th>0</th>\n",
       "      <td>AA_1</td>\n",
       "      <td>Scamp</td>\n",
       "      <td>20/12/2014</td>\n",
       "      <td>7/9/2007</td>\n",
       "      <td>Y</td>\n",
       "      <td>2661</td>\n",
       "      <td>89</td>\n",
       "      <td>7</td>\n",
       "      <td>Return to Owner</td>\n",
       "      <td>Null</td>\n",
       "      <td>Dog</td>\n",
       "      <td>Neutered Male</td>\n",
       "      <td>7 years</td>\n",
       "      <td>Spinone Italiano Mix</td>\n",
       "      <td>Yellow&amp;White</td>\n",
       "    </tr>\n",
       "    <tr>\n",
       "      <th>1</th>\n",
       "      <td>AA_2</td>\n",
       "      <td>Scamp</td>\n",
       "      <td>7/12/2017</td>\n",
       "      <td>7/9/2007</td>\n",
       "      <td>Y</td>\n",
       "      <td>3744</td>\n",
       "      <td>125</td>\n",
       "      <td>10</td>\n",
       "      <td>Return to Owner</td>\n",
       "      <td>Null</td>\n",
       "      <td>Dog</td>\n",
       "      <td>Neutered Male</td>\n",
       "      <td>10 years</td>\n",
       "      <td>Spinone Italiano Mix</td>\n",
       "      <td>Yellow&amp;White</td>\n",
       "    </tr>\n",
       "    <tr>\n",
       "      <th>2</th>\n",
       "      <td>AA_3</td>\n",
       "      <td>Scamp</td>\n",
       "      <td>8/3/2014</td>\n",
       "      <td>7/9/2007</td>\n",
       "      <td>Y</td>\n",
       "      <td>2374</td>\n",
       "      <td>79</td>\n",
       "      <td>7</td>\n",
       "      <td>Return to Owner</td>\n",
       "      <td>Null</td>\n",
       "      <td>Dog</td>\n",
       "      <td>Neutered Male</td>\n",
       "      <td>6 years</td>\n",
       "      <td>Spinone Italiano Mix</td>\n",
       "      <td>Yellow&amp;White</td>\n",
       "    </tr>\n",
       "    <tr>\n",
       "      <th>3</th>\n",
       "      <td>AA_4</td>\n",
       "      <td>Oreo</td>\n",
       "      <td>7/4/2014</td>\n",
       "      <td>4/2/2004</td>\n",
       "      <td>Y</td>\n",
       "      <td>3715</td>\n",
       "      <td>124</td>\n",
       "      <td>10</td>\n",
       "      <td>Transfer</td>\n",
       "      <td>Partner</td>\n",
       "      <td>Dog</td>\n",
       "      <td>Neutered Male</td>\n",
       "      <td>10 years</td>\n",
       "      <td>Dachshund</td>\n",
       "      <td>Tricolor</td>\n",
       "    </tr>\n",
       "    <tr>\n",
       "      <th>4</th>\n",
       "      <td>AA_5</td>\n",
       "      <td>Bandit</td>\n",
       "      <td>16/11/2013</td>\n",
       "      <td>16/10/1997</td>\n",
       "      <td>Y</td>\n",
       "      <td>5875</td>\n",
       "      <td>196</td>\n",
       "      <td>16</td>\n",
       "      <td>Return to Owner</td>\n",
       "      <td>Null</td>\n",
       "      <td>Dog</td>\n",
       "      <td>Neutered Male</td>\n",
       "      <td>16 years</td>\n",
       "      <td>Shetland Sheepdog</td>\n",
       "      <td>Brown&amp;White</td>\n",
       "    </tr>\n",
       "    <tr>\n",
       "      <th>...</th>\n",
       "      <td>...</td>\n",
       "      <td>...</td>\n",
       "      <td>...</td>\n",
       "      <td>...</td>\n",
       "      <td>...</td>\n",
       "      <td>...</td>\n",
       "      <td>...</td>\n",
       "      <td>...</td>\n",
       "      <td>...</td>\n",
       "      <td>...</td>\n",
       "      <td>...</td>\n",
       "      <td>...</td>\n",
       "      <td>...</td>\n",
       "      <td>...</td>\n",
       "      <td>...</td>\n",
       "    </tr>\n",
       "    <tr>\n",
       "      <th>138113</th>\n",
       "      <td>AA_138164</td>\n",
       "      <td>NaN</td>\n",
       "      <td>2/11/2022</td>\n",
       "      <td>6/4/2022</td>\n",
       "      <td>Y</td>\n",
       "      <td>210</td>\n",
       "      <td>7</td>\n",
       "      <td>1</td>\n",
       "      <td>Transfer</td>\n",
       "      <td>Out State</td>\n",
       "      <td>Dog</td>\n",
       "      <td>Intact Male</td>\n",
       "      <td>1 month</td>\n",
       "      <td>Catahoula&amp;Labrador Retriever</td>\n",
       "      <td>Tan&amp;White</td>\n",
       "    </tr>\n",
       "    <tr>\n",
       "      <th>138114</th>\n",
       "      <td>AA_138203</td>\n",
       "      <td>A854599</td>\n",
       "      <td>3/6/2022</td>\n",
       "      <td>6/4/2022</td>\n",
       "      <td>Y</td>\n",
       "      <td>58</td>\n",
       "      <td>2</td>\n",
       "      <td>0</td>\n",
       "      <td>Transfer</td>\n",
       "      <td>Partner</td>\n",
       "      <td>Cat</td>\n",
       "      <td>Intact Male</td>\n",
       "      <td>4 weeks</td>\n",
       "      <td>Domestic Longhair</td>\n",
       "      <td>Brown Tabby</td>\n",
       "    </tr>\n",
       "    <tr>\n",
       "      <th>138115</th>\n",
       "      <td>AA_138204</td>\n",
       "      <td>A854600</td>\n",
       "      <td>3/6/2022</td>\n",
       "      <td>6/4/2022</td>\n",
       "      <td>Y</td>\n",
       "      <td>58</td>\n",
       "      <td>2</td>\n",
       "      <td>0</td>\n",
       "      <td>Transfer</td>\n",
       "      <td>Partner</td>\n",
       "      <td>Cat</td>\n",
       "      <td>Intact Male</td>\n",
       "      <td>4 weeks</td>\n",
       "      <td>Domestic Shorthair</td>\n",
       "      <td>Black&amp;White</td>\n",
       "    </tr>\n",
       "    <tr>\n",
       "      <th>138116</th>\n",
       "      <td>AA_138213</td>\n",
       "      <td>156 Grams</td>\n",
       "      <td>4/6/2022</td>\n",
       "      <td>8/4/2022</td>\n",
       "      <td>Y</td>\n",
       "      <td>57</td>\n",
       "      <td>2</td>\n",
       "      <td>0</td>\n",
       "      <td>Transfer</td>\n",
       "      <td>Partner</td>\n",
       "      <td>Cat</td>\n",
       "      <td>Intact Female</td>\n",
       "      <td>2 days</td>\n",
       "      <td>Domestic Shorthair</td>\n",
       "      <td>Brown Tabby</td>\n",
       "    </tr>\n",
       "    <tr>\n",
       "      <th>138117</th>\n",
       "      <td>AA_138214</td>\n",
       "      <td>NaN</td>\n",
       "      <td>4/6/2022</td>\n",
       "      <td>8/4/2022</td>\n",
       "      <td>Y</td>\n",
       "      <td>57</td>\n",
       "      <td>2</td>\n",
       "      <td>0</td>\n",
       "      <td>Transfer</td>\n",
       "      <td>Partner</td>\n",
       "      <td>Cat</td>\n",
       "      <td>Intact Female</td>\n",
       "      <td>2 days</td>\n",
       "      <td>Domestic Shorthair</td>\n",
       "      <td>Blue&amp;White</td>\n",
       "    </tr>\n",
       "  </tbody>\n",
       "</table>\n",
       "<p>138118 rows × 15 columns</p>\n",
       "</div>"
      ],
      "text/plain": [
       "        Animal_ID       NAME Adopted Date     Pet DOB Status  \\\n",
       "0            AA_1      Scamp   20/12/2014    7/9/2007      Y   \n",
       "1            AA_2      Scamp    7/12/2017    7/9/2007      Y   \n",
       "2            AA_3      Scamp     8/3/2014    7/9/2007      Y   \n",
       "3            AA_4       Oreo     7/4/2014    4/2/2004      Y   \n",
       "4            AA_5     Bandit   16/11/2013  16/10/1997      Y   \n",
       "...           ...        ...          ...         ...    ...   \n",
       "138113  AA_138164        NaN    2/11/2022    6/4/2022      Y   \n",
       "138114  AA_138203    A854599     3/6/2022    6/4/2022      Y   \n",
       "138115  AA_138204    A854600     3/6/2022    6/4/2022      Y   \n",
       "138116  AA_138213  156 Grams     4/6/2022    8/4/2022      Y   \n",
       "138117  AA_138214        NaN     4/6/2022    8/4/2022      Y   \n",
       "\n",
       "        Adopted_Age_Days  Adopted_Age_Months  Adopted_Age_Years  \\\n",
       "0                   2661                  89                  7   \n",
       "1                   3744                 125                 10   \n",
       "2                   2374                  79                  7   \n",
       "3                   3715                 124                 10   \n",
       "4                   5875                 196                 16   \n",
       "...                  ...                 ...                ...   \n",
       "138113               210                   7                  1   \n",
       "138114                58                   2                  0   \n",
       "138115                58                   2                  0   \n",
       "138116                57                   2                  0   \n",
       "138117                57                   2                  0   \n",
       "\n",
       "           Outcome_Type Outcome_Subtype Animal_Type    Sex_On_Adop  \\\n",
       "0       Return to Owner            Null         Dog  Neutered Male   \n",
       "1       Return to Owner            Null         Dog  Neutered Male   \n",
       "2       Return to Owner            Null         Dog  Neutered Male   \n",
       "3              Transfer         Partner         Dog  Neutered Male   \n",
       "4       Return to Owner            Null         Dog  Neutered Male   \n",
       "...                 ...             ...         ...            ...   \n",
       "138113         Transfer       Out State         Dog    Intact Male   \n",
       "138114         Transfer         Partner         Cat    Intact Male   \n",
       "138115         Transfer         Partner         Cat    Intact Male   \n",
       "138116         Transfer         Partner         Cat  Intact Female   \n",
       "138117         Transfer         Partner         Cat  Intact Female   \n",
       "\n",
       "       Age_On_Adop                         Breed         Color  \n",
       "0          7 years          Spinone Italiano Mix  Yellow&White  \n",
       "1         10 years          Spinone Italiano Mix  Yellow&White  \n",
       "2          6 years          Spinone Italiano Mix  Yellow&White  \n",
       "3         10 years                     Dachshund      Tricolor  \n",
       "4         16 years             Shetland Sheepdog   Brown&White  \n",
       "...            ...                           ...           ...  \n",
       "138113     1 month  Catahoula&Labrador Retriever     Tan&White  \n",
       "138114     4 weeks             Domestic Longhair   Brown Tabby  \n",
       "138115     4 weeks            Domestic Shorthair   Black&White  \n",
       "138116      2 days            Domestic Shorthair   Brown Tabby  \n",
       "138117      2 days            Domestic Shorthair    Blue&White  \n",
       "\n",
       "[138118 rows x 15 columns]"
      ]
     },
     "execution_count": 119,
     "metadata": {},
     "output_type": "execute_result"
    }
   ],
   "source": [
    "df_Pet"
   ]
  },
  {
   "cell_type": "code",
   "execution_count": 120,
   "metadata": {},
   "outputs": [
    {
     "data": {
      "text/html": [
       "<div>\n",
       "<style scoped>\n",
       "    .dataframe tbody tr th:only-of-type {\n",
       "        vertical-align: middle;\n",
       "    }\n",
       "\n",
       "    .dataframe tbody tr th {\n",
       "        vertical-align: top;\n",
       "    }\n",
       "\n",
       "    .dataframe thead th {\n",
       "        text-align: right;\n",
       "    }\n",
       "</style>\n",
       "<table border=\"1\" class=\"dataframe\">\n",
       "  <thead>\n",
       "    <tr style=\"text-align: right;\">\n",
       "      <th></th>\n",
       "      <th>Adopted_Age_Days</th>\n",
       "      <th>Adopted_Age_Months</th>\n",
       "      <th>Adopted_Age_Years</th>\n",
       "    </tr>\n",
       "  </thead>\n",
       "  <tbody>\n",
       "    <tr>\n",
       "      <th>count</th>\n",
       "      <td>138118.000000</td>\n",
       "      <td>138118.000000</td>\n",
       "      <td>138118.000000</td>\n",
       "    </tr>\n",
       "    <tr>\n",
       "      <th>mean</th>\n",
       "      <td>802.829609</td>\n",
       "      <td>26.747419</td>\n",
       "      <td>2.173945</td>\n",
       "    </tr>\n",
       "    <tr>\n",
       "      <th>std</th>\n",
       "      <td>1066.695106</td>\n",
       "      <td>35.574438</td>\n",
       "      <td>2.983831</td>\n",
       "    </tr>\n",
       "    <tr>\n",
       "      <th>min</th>\n",
       "      <td>0.000000</td>\n",
       "      <td>0.000000</td>\n",
       "      <td>0.000000</td>\n",
       "    </tr>\n",
       "    <tr>\n",
       "      <th>25%</th>\n",
       "      <td>113.000000</td>\n",
       "      <td>4.000000</td>\n",
       "      <td>0.000000</td>\n",
       "    </tr>\n",
       "    <tr>\n",
       "      <th>50%</th>\n",
       "      <td>372.000000</td>\n",
       "      <td>12.000000</td>\n",
       "      <td>1.000000</td>\n",
       "    </tr>\n",
       "    <tr>\n",
       "      <th>75%</th>\n",
       "      <td>941.000000</td>\n",
       "      <td>31.000000</td>\n",
       "      <td>3.000000</td>\n",
       "    </tr>\n",
       "    <tr>\n",
       "      <th>max</th>\n",
       "      <td>10996.000000</td>\n",
       "      <td>367.000000</td>\n",
       "      <td>31.000000</td>\n",
       "    </tr>\n",
       "  </tbody>\n",
       "</table>\n",
       "</div>"
      ],
      "text/plain": [
       "       Adopted_Age_Days  Adopted_Age_Months  Adopted_Age_Years\n",
       "count     138118.000000       138118.000000      138118.000000\n",
       "mean         802.829609           26.747419           2.173945\n",
       "std         1066.695106           35.574438           2.983831\n",
       "min            0.000000            0.000000           0.000000\n",
       "25%          113.000000            4.000000           0.000000\n",
       "50%          372.000000           12.000000           1.000000\n",
       "75%          941.000000           31.000000           3.000000\n",
       "max        10996.000000          367.000000          31.000000"
      ]
     },
     "execution_count": 120,
     "metadata": {},
     "output_type": "execute_result"
    }
   ],
   "source": [
    "df_Pet.describe()"
   ]
  },
  {
   "cell_type": "code",
   "execution_count": 121,
   "metadata": {},
   "outputs": [
    {
     "data": {
      "text/html": [
       "<div>\n",
       "<style scoped>\n",
       "    .dataframe tbody tr th:only-of-type {\n",
       "        vertical-align: middle;\n",
       "    }\n",
       "\n",
       "    .dataframe tbody tr th {\n",
       "        vertical-align: top;\n",
       "    }\n",
       "\n",
       "    .dataframe thead th {\n",
       "        text-align: right;\n",
       "    }\n",
       "</style>\n",
       "<table border=\"1\" class=\"dataframe\">\n",
       "  <thead>\n",
       "    <tr style=\"text-align: right;\">\n",
       "      <th></th>\n",
       "      <th>Animal_ID</th>\n",
       "      <th>NAME</th>\n",
       "      <th>Adopted Date</th>\n",
       "      <th>Pet DOB</th>\n",
       "      <th>Status</th>\n",
       "      <th>Outcome_Type</th>\n",
       "      <th>Outcome_Subtype</th>\n",
       "      <th>Animal_Type</th>\n",
       "      <th>Sex_On_Adop</th>\n",
       "      <th>Age_On_Adop</th>\n",
       "      <th>Breed</th>\n",
       "      <th>Color</th>\n",
       "    </tr>\n",
       "  </thead>\n",
       "  <tbody>\n",
       "    <tr>\n",
       "      <th>count</th>\n",
       "      <td>96964</td>\n",
       "      <td>96964</td>\n",
       "      <td>96964</td>\n",
       "      <td>96964</td>\n",
       "      <td>96964</td>\n",
       "      <td>96964</td>\n",
       "      <td>96964</td>\n",
       "      <td>96964</td>\n",
       "      <td>96964</td>\n",
       "      <td>96964</td>\n",
       "      <td>96964</td>\n",
       "      <td>96964</td>\n",
       "    </tr>\n",
       "    <tr>\n",
       "      <th>unique</th>\n",
       "      <td>96963</td>\n",
       "      <td>19084</td>\n",
       "      <td>3109</td>\n",
       "      <td>7419</td>\n",
       "      <td>1</td>\n",
       "      <td>9</td>\n",
       "      <td>26</td>\n",
       "      <td>5</td>\n",
       "      <td>5</td>\n",
       "      <td>50</td>\n",
       "      <td>2486</td>\n",
       "      <td>541</td>\n",
       "    </tr>\n",
       "    <tr>\n",
       "      <th>top</th>\n",
       "      <td>AA_5248</td>\n",
       "      <td>Max</td>\n",
       "      <td>19/08/2017</td>\n",
       "      <td>9/1/2015</td>\n",
       "      <td>Y</td>\n",
       "      <td>Adoption</td>\n",
       "      <td>Null</td>\n",
       "      <td>Dog</td>\n",
       "      <td>Neutered Male</td>\n",
       "      <td>1 year</td>\n",
       "      <td>Domestic Shorthair Mix</td>\n",
       "      <td>Black&amp;White</td>\n",
       "    </tr>\n",
       "    <tr>\n",
       "      <th>freq</th>\n",
       "      <td>2</td>\n",
       "      <td>682</td>\n",
       "      <td>155</td>\n",
       "      <td>91</td>\n",
       "      <td>96964</td>\n",
       "      <td>52355</td>\n",
       "      <td>64225</td>\n",
       "      <td>65164</td>\n",
       "      <td>41176</td>\n",
       "      <td>16660</td>\n",
       "      <td>18185</td>\n",
       "      <td>10635</td>\n",
       "    </tr>\n",
       "  </tbody>\n",
       "</table>\n",
       "</div>"
      ],
      "text/plain": [
       "       Animal_ID   NAME Adopted Date   Pet DOB Status Outcome_Type  \\\n",
       "count      96964  96964        96964     96964  96964        96964   \n",
       "unique     96963  19084         3109      7419      1            9   \n",
       "top      AA_5248    Max   19/08/2017  9/1/2015      Y     Adoption   \n",
       "freq           2    682          155        91  96964        52355   \n",
       "\n",
       "       Outcome_Subtype Animal_Type    Sex_On_Adop Age_On_Adop  \\\n",
       "count            96964       96964          96964       96964   \n",
       "unique              26           5              5          50   \n",
       "top               Null         Dog  Neutered Male      1 year   \n",
       "freq             64225       65164          41176       16660   \n",
       "\n",
       "                         Breed        Color  \n",
       "count                    96964        96964  \n",
       "unique                    2486          541  \n",
       "top     Domestic Shorthair Mix  Black&White  \n",
       "freq                     18185        10635  "
      ]
     },
     "execution_count": 121,
     "metadata": {},
     "output_type": "execute_result"
    }
   ],
   "source": [
    "# removing null values to avoid errors  \n",
    "df_Pet.dropna(inplace = True)\n",
    "# list of dtypes to include \n",
    "include =['object', 'float', 'int'] \n",
    "  \n",
    "# calling describe method \n",
    "desc = df_Pet.describe( include = include) \n",
    "\n",
    "desc"
   ]
  },
  {
   "cell_type": "code",
   "execution_count": 122,
   "metadata": {},
   "outputs": [],
   "source": [
    "#inplace: By setting it to TRUE, the changes gets stored into a new object that gets created and it does not alter the original dataframe.\n",
    "df_Pet.drop('Age_On_Adop', inplace=True, axis=1)"
   ]
  },
  {
   "cell_type": "code",
   "execution_count": 123,
   "metadata": {},
   "outputs": [],
   "source": [
    "df_Pet.drop('Status', inplace=True, axis=1)"
   ]
  },
  {
   "cell_type": "code",
   "execution_count": 124,
   "metadata": {},
   "outputs": [
    {
     "data": {
      "text/html": [
       "<div>\n",
       "<style scoped>\n",
       "    .dataframe tbody tr th:only-of-type {\n",
       "        vertical-align: middle;\n",
       "    }\n",
       "\n",
       "    .dataframe tbody tr th {\n",
       "        vertical-align: top;\n",
       "    }\n",
       "\n",
       "    .dataframe thead th {\n",
       "        text-align: right;\n",
       "    }\n",
       "</style>\n",
       "<table border=\"1\" class=\"dataframe\">\n",
       "  <thead>\n",
       "    <tr style=\"text-align: right;\">\n",
       "      <th></th>\n",
       "      <th>Animal_ID</th>\n",
       "      <th>NAME</th>\n",
       "      <th>Adopted Date</th>\n",
       "      <th>Pet DOB</th>\n",
       "      <th>Adopted_Age_Days</th>\n",
       "      <th>Adopted_Age_Months</th>\n",
       "      <th>Adopted_Age_Years</th>\n",
       "      <th>Outcome_Type</th>\n",
       "      <th>Outcome_Subtype</th>\n",
       "      <th>Animal_Type</th>\n",
       "      <th>Sex_On_Adop</th>\n",
       "      <th>Breed</th>\n",
       "      <th>Color</th>\n",
       "    </tr>\n",
       "  </thead>\n",
       "  <tbody>\n",
       "    <tr>\n",
       "      <th>0</th>\n",
       "      <td>AA_1</td>\n",
       "      <td>Scamp</td>\n",
       "      <td>20/12/2014</td>\n",
       "      <td>7/9/2007</td>\n",
       "      <td>2661</td>\n",
       "      <td>89</td>\n",
       "      <td>7</td>\n",
       "      <td>Return to Owner</td>\n",
       "      <td>Null</td>\n",
       "      <td>Dog</td>\n",
       "      <td>Neutered Male</td>\n",
       "      <td>Spinone Italiano Mix</td>\n",
       "      <td>Yellow&amp;White</td>\n",
       "    </tr>\n",
       "    <tr>\n",
       "      <th>1</th>\n",
       "      <td>AA_2</td>\n",
       "      <td>Scamp</td>\n",
       "      <td>7/12/2017</td>\n",
       "      <td>7/9/2007</td>\n",
       "      <td>3744</td>\n",
       "      <td>125</td>\n",
       "      <td>10</td>\n",
       "      <td>Return to Owner</td>\n",
       "      <td>Null</td>\n",
       "      <td>Dog</td>\n",
       "      <td>Neutered Male</td>\n",
       "      <td>Spinone Italiano Mix</td>\n",
       "      <td>Yellow&amp;White</td>\n",
       "    </tr>\n",
       "    <tr>\n",
       "      <th>2</th>\n",
       "      <td>AA_3</td>\n",
       "      <td>Scamp</td>\n",
       "      <td>8/3/2014</td>\n",
       "      <td>7/9/2007</td>\n",
       "      <td>2374</td>\n",
       "      <td>79</td>\n",
       "      <td>7</td>\n",
       "      <td>Return to Owner</td>\n",
       "      <td>Null</td>\n",
       "      <td>Dog</td>\n",
       "      <td>Neutered Male</td>\n",
       "      <td>Spinone Italiano Mix</td>\n",
       "      <td>Yellow&amp;White</td>\n",
       "    </tr>\n",
       "    <tr>\n",
       "      <th>3</th>\n",
       "      <td>AA_4</td>\n",
       "      <td>Oreo</td>\n",
       "      <td>7/4/2014</td>\n",
       "      <td>4/2/2004</td>\n",
       "      <td>3715</td>\n",
       "      <td>124</td>\n",
       "      <td>10</td>\n",
       "      <td>Transfer</td>\n",
       "      <td>Partner</td>\n",
       "      <td>Dog</td>\n",
       "      <td>Neutered Male</td>\n",
       "      <td>Dachshund</td>\n",
       "      <td>Tricolor</td>\n",
       "    </tr>\n",
       "    <tr>\n",
       "      <th>4</th>\n",
       "      <td>AA_5</td>\n",
       "      <td>Bandit</td>\n",
       "      <td>16/11/2013</td>\n",
       "      <td>16/10/1997</td>\n",
       "      <td>5875</td>\n",
       "      <td>196</td>\n",
       "      <td>16</td>\n",
       "      <td>Return to Owner</td>\n",
       "      <td>Null</td>\n",
       "      <td>Dog</td>\n",
       "      <td>Neutered Male</td>\n",
       "      <td>Shetland Sheepdog</td>\n",
       "      <td>Brown&amp;White</td>\n",
       "    </tr>\n",
       "    <tr>\n",
       "      <th>...</th>\n",
       "      <td>...</td>\n",
       "      <td>...</td>\n",
       "      <td>...</td>\n",
       "      <td>...</td>\n",
       "      <td>...</td>\n",
       "      <td>...</td>\n",
       "      <td>...</td>\n",
       "      <td>...</td>\n",
       "      <td>...</td>\n",
       "      <td>...</td>\n",
       "      <td>...</td>\n",
       "      <td>...</td>\n",
       "      <td>...</td>\n",
       "    </tr>\n",
       "    <tr>\n",
       "      <th>138102</th>\n",
       "      <td>AA_137969</td>\n",
       "      <td>197 Grams</td>\n",
       "      <td>3/9/2022</td>\n",
       "      <td>24/03/2022</td>\n",
       "      <td>163</td>\n",
       "      <td>5</td>\n",
       "      <td>0</td>\n",
       "      <td>Transfer</td>\n",
       "      <td>Partner</td>\n",
       "      <td>Cat</td>\n",
       "      <td>Intact Female</td>\n",
       "      <td>Domestic Shorthair Mix</td>\n",
       "      <td>Brown Tabby</td>\n",
       "    </tr>\n",
       "    <tr>\n",
       "      <th>138103</th>\n",
       "      <td>AA_138035</td>\n",
       "      <td>Smoke</td>\n",
       "      <td>2/4/2022</td>\n",
       "      <td>28/03/2022</td>\n",
       "      <td>5</td>\n",
       "      <td>0</td>\n",
       "      <td>0</td>\n",
       "      <td>Return to Owner</td>\n",
       "      <td>Null</td>\n",
       "      <td>Dog</td>\n",
       "      <td>Intact Female</td>\n",
       "      <td>Pit Bull Mix</td>\n",
       "      <td>Blue</td>\n",
       "    </tr>\n",
       "    <tr>\n",
       "      <th>138114</th>\n",
       "      <td>AA_138203</td>\n",
       "      <td>A854599</td>\n",
       "      <td>3/6/2022</td>\n",
       "      <td>6/4/2022</td>\n",
       "      <td>58</td>\n",
       "      <td>2</td>\n",
       "      <td>0</td>\n",
       "      <td>Transfer</td>\n",
       "      <td>Partner</td>\n",
       "      <td>Cat</td>\n",
       "      <td>Intact Male</td>\n",
       "      <td>Domestic Longhair</td>\n",
       "      <td>Brown Tabby</td>\n",
       "    </tr>\n",
       "    <tr>\n",
       "      <th>138115</th>\n",
       "      <td>AA_138204</td>\n",
       "      <td>A854600</td>\n",
       "      <td>3/6/2022</td>\n",
       "      <td>6/4/2022</td>\n",
       "      <td>58</td>\n",
       "      <td>2</td>\n",
       "      <td>0</td>\n",
       "      <td>Transfer</td>\n",
       "      <td>Partner</td>\n",
       "      <td>Cat</td>\n",
       "      <td>Intact Male</td>\n",
       "      <td>Domestic Shorthair</td>\n",
       "      <td>Black&amp;White</td>\n",
       "    </tr>\n",
       "    <tr>\n",
       "      <th>138116</th>\n",
       "      <td>AA_138213</td>\n",
       "      <td>156 Grams</td>\n",
       "      <td>4/6/2022</td>\n",
       "      <td>8/4/2022</td>\n",
       "      <td>57</td>\n",
       "      <td>2</td>\n",
       "      <td>0</td>\n",
       "      <td>Transfer</td>\n",
       "      <td>Partner</td>\n",
       "      <td>Cat</td>\n",
       "      <td>Intact Female</td>\n",
       "      <td>Domestic Shorthair</td>\n",
       "      <td>Brown Tabby</td>\n",
       "    </tr>\n",
       "  </tbody>\n",
       "</table>\n",
       "<p>96964 rows × 13 columns</p>\n",
       "</div>"
      ],
      "text/plain": [
       "        Animal_ID       NAME Adopted Date     Pet DOB  Adopted_Age_Days  \\\n",
       "0            AA_1      Scamp   20/12/2014    7/9/2007              2661   \n",
       "1            AA_2      Scamp    7/12/2017    7/9/2007              3744   \n",
       "2            AA_3      Scamp     8/3/2014    7/9/2007              2374   \n",
       "3            AA_4       Oreo     7/4/2014    4/2/2004              3715   \n",
       "4            AA_5     Bandit   16/11/2013  16/10/1997              5875   \n",
       "...           ...        ...          ...         ...               ...   \n",
       "138102  AA_137969  197 Grams     3/9/2022  24/03/2022               163   \n",
       "138103  AA_138035      Smoke     2/4/2022  28/03/2022                 5   \n",
       "138114  AA_138203    A854599     3/6/2022    6/4/2022                58   \n",
       "138115  AA_138204    A854600     3/6/2022    6/4/2022                58   \n",
       "138116  AA_138213  156 Grams     4/6/2022    8/4/2022                57   \n",
       "\n",
       "        Adopted_Age_Months  Adopted_Age_Years     Outcome_Type  \\\n",
       "0                       89                  7  Return to Owner   \n",
       "1                      125                 10  Return to Owner   \n",
       "2                       79                  7  Return to Owner   \n",
       "3                      124                 10         Transfer   \n",
       "4                      196                 16  Return to Owner   \n",
       "...                    ...                ...              ...   \n",
       "138102                   5                  0         Transfer   \n",
       "138103                   0                  0  Return to Owner   \n",
       "138114                   2                  0         Transfer   \n",
       "138115                   2                  0         Transfer   \n",
       "138116                   2                  0         Transfer   \n",
       "\n",
       "       Outcome_Subtype Animal_Type    Sex_On_Adop                   Breed  \\\n",
       "0                 Null         Dog  Neutered Male    Spinone Italiano Mix   \n",
       "1                 Null         Dog  Neutered Male    Spinone Italiano Mix   \n",
       "2                 Null         Dog  Neutered Male    Spinone Italiano Mix   \n",
       "3              Partner         Dog  Neutered Male               Dachshund   \n",
       "4                 Null         Dog  Neutered Male       Shetland Sheepdog   \n",
       "...                ...         ...            ...                     ...   \n",
       "138102         Partner         Cat  Intact Female  Domestic Shorthair Mix   \n",
       "138103            Null         Dog  Intact Female            Pit Bull Mix   \n",
       "138114         Partner         Cat    Intact Male       Domestic Longhair   \n",
       "138115         Partner         Cat    Intact Male      Domestic Shorthair   \n",
       "138116         Partner         Cat  Intact Female      Domestic Shorthair   \n",
       "\n",
       "               Color  \n",
       "0       Yellow&White  \n",
       "1       Yellow&White  \n",
       "2       Yellow&White  \n",
       "3           Tricolor  \n",
       "4        Brown&White  \n",
       "...              ...  \n",
       "138102   Brown Tabby  \n",
       "138103          Blue  \n",
       "138114   Brown Tabby  \n",
       "138115   Black&White  \n",
       "138116   Brown Tabby  \n",
       "\n",
       "[96964 rows x 13 columns]"
      ]
     },
     "execution_count": 124,
     "metadata": {},
     "output_type": "execute_result"
    }
   ],
   "source": [
    "df_Pet"
   ]
  },
  {
   "cell_type": "code",
   "execution_count": 125,
   "metadata": {},
   "outputs": [
    {
     "name": "stdout",
     "output_type": "stream",
     "text": [
      "Animal_ID             0\n",
      "NAME                  0\n",
      "Adopted Date          0\n",
      "Pet DOB               0\n",
      "Adopted_Age_Days      0\n",
      "Adopted_Age_Months    0\n",
      "Adopted_Age_Years     0\n",
      "Outcome_Type          0\n",
      "Outcome_Subtype       0\n",
      "Animal_Type           0\n",
      "Sex_On_Adop           0\n",
      "Breed                 0\n",
      "Color                 0\n",
      "dtype: int64\n"
     ]
    },
    {
     "data": {
      "text/plain": [
       "False"
      ]
     },
     "execution_count": 125,
     "metadata": {},
     "output_type": "execute_result"
    }
   ],
   "source": [
    "# Testing if any null values\n",
    "print(df_Pet.isnull().sum())\n",
    "\n",
    "df_Pet.isnull().values.any()\n",
    "\n",
    "# Conclusion: No null values found"
   ]
  },
  {
   "cell_type": "code",
   "execution_count": 126,
   "metadata": {},
   "outputs": [],
   "source": [
    "#df_Pet.to_csv(r'C:\\Users\\16508\\Downloads\\Pet_dataset_file_Cleaned.csv', index = False)"
   ]
  },
  {
   "cell_type": "code",
   "execution_count": 127,
   "metadata": {},
   "outputs": [
    {
     "data": {
      "text/plain": [
       "0         False\n",
       "1         False\n",
       "2         False\n",
       "3         False\n",
       "4         False\n",
       "          ...  \n",
       "138102    False\n",
       "138103    False\n",
       "138114    False\n",
       "138115    False\n",
       "138116    False\n",
       "Name: Outcome_Subtype, Length: 96964, dtype: bool"
      ]
     },
     "execution_count": 127,
     "metadata": {},
     "output_type": "execute_result"
    }
   ],
   "source": [
    "df_Pet['Outcome_Subtype'].isnull()"
   ]
  },
  {
   "cell_type": "markdown",
   "metadata": {},
   "source": [
    "## Numerical vs. Categorical Data Types!"
   ]
  },
  {
   "cell_type": "code",
   "execution_count": 128,
   "metadata": {},
   "outputs": [
    {
     "data": {
      "text/plain": [
       "Animal_ID          object\n",
       "NAME               object\n",
       "Adopted Date       object\n",
       "Pet DOB            object\n",
       "Outcome_Type       object\n",
       "Outcome_Subtype    object\n",
       "Animal_Type        object\n",
       "Sex_On_Adop        object\n",
       "Breed              object\n",
       "Color              object\n",
       "dtype: object"
      ]
     },
     "execution_count": 128,
     "metadata": {},
     "output_type": "execute_result"
    }
   ],
   "source": [
    "df_Pet.dtypes[df_Pet.dtypes=='object']"
   ]
  },
  {
   "cell_type": "code",
   "execution_count": 129,
   "metadata": {},
   "outputs": [
    {
     "data": {
      "text/plain": [
       "Index(['Adopted_Age_Days', 'Adopted_Age_Months', 'Adopted_Age_Years'], dtype='object')"
      ]
     },
     "execution_count": 129,
     "metadata": {},
     "output_type": "execute_result"
    }
   ],
   "source": [
    "df_Pet._get_numeric_data().columns"
   ]
  },
  {
   "cell_type": "markdown",
   "metadata": {},
   "source": [
    "## DESCRIPTIVE STATISTICS!"
   ]
  },
  {
   "cell_type": "code",
   "execution_count": 130,
   "metadata": {},
   "outputs": [
    {
     "data": {
      "text/plain": [
       "Domestic Shorthair Mix       18185\n",
       "Pit Bull Mix                  8143\n",
       "Domestic Shorthair            6415\n",
       "Labrador Retriever Mix        6109\n",
       "Chihuahua Shorthair Mix       5158\n",
       "German Shepherd Mix           2857\n",
       "Domestic Medium Hair Mix      1921\n",
       "Pit Bull                      1727\n",
       "Australian Cattle Dog Mix     1428\n",
       "Domestic Longhair Mix         1055\n",
       "Name: Breed, dtype: int64"
      ]
     },
     "execution_count": 130,
     "metadata": {},
     "output_type": "execute_result"
    }
   ],
   "source": [
    "# Displays the breeds which has highest count!\n",
    "df_Pet['Breed'].value_counts().head(10)"
   ]
  },
  {
   "cell_type": "code",
   "execution_count": 131,
   "metadata": {},
   "outputs": [
    {
     "data": {
      "text/plain": [
       "<matplotlib.axes._subplots.AxesSubplot at 0x1bb5dc0beb0>"
      ]
     },
     "execution_count": 131,
     "metadata": {},
     "output_type": "execute_result"
    },
    {
     "data": {
      "image/png": "[encoded data removed]",
      "text/plain": [
       "<Figure size 1440x720 with 1 Axes>"
      ]
     },
     "metadata": {
      "needs_background": "light"
     },
     "output_type": "display_data"
    }
   ],
   "source": [
    "plt.figure(figsize=(20,10))\n",
    "sns.countplot(x='Outcome_Type', data=df_Pet)\n"
   ]
  },
  {
   "cell_type": "code",
   "execution_count": 132,
   "metadata": {},
   "outputs": [
    {
     "data": {
      "text/plain": [
       "<matplotlib.axes._subplots.AxesSubplot at 0x1bb694949d0>"
      ]
     },
     "execution_count": 132,
     "metadata": {},
     "output_type": "execute_result"
    },
    {
     "data": {
      "image/png": "[encoded data removed]",
      "text/plain": [
       "<Figure size 1440x720 with 1 Axes>"
      ]
     },
     "metadata": {
      "needs_background": "light"
     },
     "output_type": "display_data"
    }
   ],
   "source": [
    "plt.figure(figsize=(20,10))\n",
    "sns.countplot(x='Sex_On_Adop', data=df_Pet)"
   ]
  },
  {
   "cell_type": "code",
   "execution_count": 133,
   "metadata": {},
   "outputs": [
    {
     "data": {
      "text/plain": [
       "<matplotlib.axes._subplots.AxesSubplot at 0x1bb6b3c23a0>"
      ]
     },
     "execution_count": 133,
     "metadata": {},
     "output_type": "execute_result"
    },
    {
     "data": {
      "image/png": "[encoded data removed]",
      "text/plain": [
       "<Figure size 720x720 with 1 Axes>"
      ]
     },
     "metadata": {
      "needs_background": "light"
     },
     "output_type": "display_data"
    }
   ],
   "source": [
    "plt.figure(figsize=(10,10))\n",
    "sns.countplot(x='Animal_Type', data=df_Pet)"
   ]
  },
  {
   "cell_type": "code",
   "execution_count": 134,
   "metadata": {},
   "outputs": [
    {
     "data": {
      "text/plain": [
       "<matplotlib.axes._subplots.AxesSubplot at 0x1bb5dc334f0>"
      ]
     },
     "execution_count": 134,
     "metadata": {},
     "output_type": "execute_result"
    },
    {
     "data": {
      "image/png": "[encoded data removed]",
      "text/plain": [
       "<Figure size 720x720 with 1 Axes>"
      ]
     },
     "metadata": {
      "needs_background": "light"
     },
     "output_type": "display_data"
    }
   ],
   "source": [
    "plt.figure(figsize=(10,10))\n",
    "sns.scatterplot(x='Animal_Type', y='Adopted_Age_Years', data=df_Pet)\n",
    "#plt.xticks(rotation=60) "
   ]
  },
  {
   "cell_type": "code",
   "execution_count": 135,
   "metadata": {},
   "outputs": [
    {
     "data": {
      "text/plain": [
       "<matplotlib.axes._subplots.AxesSubplot at 0x1bb5cfb3280>"
      ]
     },
     "execution_count": 135,
     "metadata": {},
     "output_type": "execute_result"
    },
    {
     "data": {
      "image/png": "[encoded data removed]",
      "text/plain": [
       "<Figure size 1584x648 with 1 Axes>"
      ]
     },
     "metadata": {
      "needs_background": "light"
     },
     "output_type": "display_data"
    }
   ],
   "source": [
    "#To understand the outliers!\n",
    "\n",
    "plt.figure(figsize=(22,9))\n",
    "sns.boxplot(y='Adopted_Age_Years', x='Animal_Type', data=df_Pet)"
   ]
  },
  {
   "cell_type": "markdown",
   "metadata": {},
   "source": [
    "## Animal Characteristics Data description!"
   ]
  },
  {
   "cell_type": "code",
   "execution_count": 136,
   "metadata": {},
   "outputs": [
    {
     "data": {
      "text/plain": [
       "(138214, 4)"
      ]
     },
     "execution_count": 136,
     "metadata": {},
     "output_type": "execute_result"
    }
   ],
   "source": [
    "df_Pet_Char = pd.read_csv(r'C:\\Users\\16508\\Downloads\\Animal_Characteristics.csv') \n",
    "df_Pet_Char.shape"
   ]
  },
  {
   "cell_type": "code",
   "execution_count": 137,
   "metadata": {},
   "outputs": [
    {
     "name": "stdout",
     "output_type": "stream",
     "text": [
      "Animal_ID     0\n",
      "Condition     0\n",
      "length(cm)    0\n",
      "height(cm)    0\n",
      "dtype: int64\n"
     ]
    },
    {
     "data": {
      "text/plain": [
       "False"
      ]
     },
     "execution_count": 137,
     "metadata": {},
     "output_type": "execute_result"
    }
   ],
   "source": [
    "# Testing if any null values\n",
    "print(df_Pet_Char.isnull().sum())\n",
    "\n",
    "df_Pet_Char.isnull().values.any()\n",
    "\n",
    "#Conclusion no null values found."
   ]
  },
  {
   "cell_type": "code",
   "execution_count": 138,
   "metadata": {},
   "outputs": [
    {
     "data": {
      "text/html": [
       "<div>\n",
       "<style scoped>\n",
       "    .dataframe tbody tr th:only-of-type {\n",
       "        vertical-align: middle;\n",
       "    }\n",
       "\n",
       "    .dataframe tbody tr th {\n",
       "        vertical-align: top;\n",
       "    }\n",
       "\n",
       "    .dataframe thead th {\n",
       "        text-align: right;\n",
       "    }\n",
       "</style>\n",
       "<table border=\"1\" class=\"dataframe\">\n",
       "  <thead>\n",
       "    <tr style=\"text-align: right;\">\n",
       "      <th></th>\n",
       "      <th>Condition</th>\n",
       "      <th>length(cm)</th>\n",
       "      <th>height(cm)</th>\n",
       "    </tr>\n",
       "  </thead>\n",
       "  <tbody>\n",
       "    <tr>\n",
       "      <th>count</th>\n",
       "      <td>138214.000000</td>\n",
       "      <td>138214.000000</td>\n",
       "      <td>138214.000000</td>\n",
       "    </tr>\n",
       "    <tr>\n",
       "      <th>mean</th>\n",
       "      <td>1.503458</td>\n",
       "      <td>49.964334</td>\n",
       "      <td>27.499129</td>\n",
       "    </tr>\n",
       "    <tr>\n",
       "      <th>std</th>\n",
       "      <td>1.117463</td>\n",
       "      <td>28.844597</td>\n",
       "      <td>12.998776</td>\n",
       "    </tr>\n",
       "    <tr>\n",
       "      <th>min</th>\n",
       "      <td>0.000000</td>\n",
       "      <td>0.001371</td>\n",
       "      <td>5.000339</td>\n",
       "    </tr>\n",
       "    <tr>\n",
       "      <th>25%</th>\n",
       "      <td>1.000000</td>\n",
       "      <td>25.034279</td>\n",
       "      <td>16.222927</td>\n",
       "    </tr>\n",
       "    <tr>\n",
       "      <th>50%</th>\n",
       "      <td>2.000000</td>\n",
       "      <td>49.965085</td>\n",
       "      <td>27.504958</td>\n",
       "    </tr>\n",
       "    <tr>\n",
       "      <th>75%</th>\n",
       "      <td>3.000000</td>\n",
       "      <td>74.867061</td>\n",
       "      <td>38.780491</td>\n",
       "    </tr>\n",
       "    <tr>\n",
       "      <th>max</th>\n",
       "      <td>3.000000</td>\n",
       "      <td>99.999806</td>\n",
       "      <td>49.999851</td>\n",
       "    </tr>\n",
       "  </tbody>\n",
       "</table>\n",
       "</div>"
      ],
      "text/plain": [
       "           Condition     length(cm)     height(cm)\n",
       "count  138214.000000  138214.000000  138214.000000\n",
       "mean        1.503458      49.964334      27.499129\n",
       "std         1.117463      28.844597      12.998776\n",
       "min         0.000000       0.001371       5.000339\n",
       "25%         1.000000      25.034279      16.222927\n",
       "50%         2.000000      49.965085      27.504958\n",
       "75%         3.000000      74.867061      38.780491\n",
       "max         3.000000      99.999806      49.999851"
      ]
     },
     "execution_count": 138,
     "metadata": {},
     "output_type": "execute_result"
    }
   ],
   "source": [
    "df_Pet_Char.describe()"
   ]
  },
  {
   "cell_type": "code",
   "execution_count": 139,
   "metadata": {},
   "outputs": [
    {
     "data": {
      "text/html": [
       "<div>\n",
       "<style scoped>\n",
       "    .dataframe tbody tr th:only-of-type {\n",
       "        vertical-align: middle;\n",
       "    }\n",
       "\n",
       "    .dataframe tbody tr th {\n",
       "        vertical-align: top;\n",
       "    }\n",
       "\n",
       "    .dataframe thead th {\n",
       "        text-align: right;\n",
       "    }\n",
       "</style>\n",
       "<table border=\"1\" class=\"dataframe\">\n",
       "  <thead>\n",
       "    <tr style=\"text-align: right;\">\n",
       "      <th></th>\n",
       "      <th>Animal_ID</th>\n",
       "      <th>Condition</th>\n",
       "      <th>length(cm)</th>\n",
       "      <th>height(cm)</th>\n",
       "    </tr>\n",
       "  </thead>\n",
       "  <tbody>\n",
       "    <tr>\n",
       "      <th>0</th>\n",
       "      <td>False</td>\n",
       "      <td>False</td>\n",
       "      <td>False</td>\n",
       "      <td>False</td>\n",
       "    </tr>\n",
       "    <tr>\n",
       "      <th>1</th>\n",
       "      <td>False</td>\n",
       "      <td>False</td>\n",
       "      <td>False</td>\n",
       "      <td>False</td>\n",
       "    </tr>\n",
       "    <tr>\n",
       "      <th>2</th>\n",
       "      <td>False</td>\n",
       "      <td>False</td>\n",
       "      <td>False</td>\n",
       "      <td>False</td>\n",
       "    </tr>\n",
       "    <tr>\n",
       "      <th>3</th>\n",
       "      <td>False</td>\n",
       "      <td>False</td>\n",
       "      <td>False</td>\n",
       "      <td>False</td>\n",
       "    </tr>\n",
       "    <tr>\n",
       "      <th>4</th>\n",
       "      <td>False</td>\n",
       "      <td>False</td>\n",
       "      <td>False</td>\n",
       "      <td>False</td>\n",
       "    </tr>\n",
       "    <tr>\n",
       "      <th>...</th>\n",
       "      <td>...</td>\n",
       "      <td>...</td>\n",
       "      <td>...</td>\n",
       "      <td>...</td>\n",
       "    </tr>\n",
       "    <tr>\n",
       "      <th>138209</th>\n",
       "      <td>False</td>\n",
       "      <td>False</td>\n",
       "      <td>False</td>\n",
       "      <td>False</td>\n",
       "    </tr>\n",
       "    <tr>\n",
       "      <th>138210</th>\n",
       "      <td>False</td>\n",
       "      <td>False</td>\n",
       "      <td>False</td>\n",
       "      <td>False</td>\n",
       "    </tr>\n",
       "    <tr>\n",
       "      <th>138211</th>\n",
       "      <td>False</td>\n",
       "      <td>False</td>\n",
       "      <td>False</td>\n",
       "      <td>False</td>\n",
       "    </tr>\n",
       "    <tr>\n",
       "      <th>138212</th>\n",
       "      <td>False</td>\n",
       "      <td>False</td>\n",
       "      <td>False</td>\n",
       "      <td>False</td>\n",
       "    </tr>\n",
       "    <tr>\n",
       "      <th>138213</th>\n",
       "      <td>False</td>\n",
       "      <td>False</td>\n",
       "      <td>False</td>\n",
       "      <td>False</td>\n",
       "    </tr>\n",
       "  </tbody>\n",
       "</table>\n",
       "<p>138214 rows × 4 columns</p>\n",
       "</div>"
      ],
      "text/plain": [
       "        Animal_ID  Condition  length(cm)  height(cm)\n",
       "0           False      False       False       False\n",
       "1           False      False       False       False\n",
       "2           False      False       False       False\n",
       "3           False      False       False       False\n",
       "4           False      False       False       False\n",
       "...           ...        ...         ...         ...\n",
       "138209      False      False       False       False\n",
       "138210      False      False       False       False\n",
       "138211      False      False       False       False\n",
       "138212      False      False       False       False\n",
       "138213      False      False       False       False\n",
       "\n",
       "[138214 rows x 4 columns]"
      ]
     },
     "execution_count": 139,
     "metadata": {},
     "output_type": "execute_result"
    }
   ],
   "source": [
    "df_Pet_Char.isnull()"
   ]
  },
  {
   "cell_type": "code",
   "execution_count": 140,
   "metadata": {},
   "outputs": [
    {
     "data": {
      "text/html": [
       "<div>\n",
       "<style scoped>\n",
       "    .dataframe tbody tr th:only-of-type {\n",
       "        vertical-align: middle;\n",
       "    }\n",
       "\n",
       "    .dataframe tbody tr th {\n",
       "        vertical-align: top;\n",
       "    }\n",
       "\n",
       "    .dataframe thead th {\n",
       "        text-align: right;\n",
       "    }\n",
       "</style>\n",
       "<table border=\"1\" class=\"dataframe\">\n",
       "  <thead>\n",
       "    <tr style=\"text-align: right;\">\n",
       "      <th></th>\n",
       "      <th>Animal_ID</th>\n",
       "      <th>Condition</th>\n",
       "      <th>length(cm)</th>\n",
       "      <th>height(cm)</th>\n",
       "    </tr>\n",
       "  </thead>\n",
       "  <tbody>\n",
       "    <tr>\n",
       "      <th>0</th>\n",
       "      <td>AA_1</td>\n",
       "      <td>2</td>\n",
       "      <td>49.435273</td>\n",
       "      <td>7.397711</td>\n",
       "    </tr>\n",
       "    <tr>\n",
       "      <th>1</th>\n",
       "      <td>AA_2</td>\n",
       "      <td>3</td>\n",
       "      <td>64.279624</td>\n",
       "      <td>27.090308</td>\n",
       "    </tr>\n",
       "    <tr>\n",
       "      <th>2</th>\n",
       "      <td>AA_3</td>\n",
       "      <td>1</td>\n",
       "      <td>62.866585</td>\n",
       "      <td>38.513557</td>\n",
       "    </tr>\n",
       "    <tr>\n",
       "      <th>3</th>\n",
       "      <td>AA_4</td>\n",
       "      <td>1</td>\n",
       "      <td>84.461722</td>\n",
       "      <td>18.538097</td>\n",
       "    </tr>\n",
       "    <tr>\n",
       "      <th>4</th>\n",
       "      <td>AA_5</td>\n",
       "      <td>1</td>\n",
       "      <td>91.032094</td>\n",
       "      <td>18.061219</td>\n",
       "    </tr>\n",
       "    <tr>\n",
       "      <th>...</th>\n",
       "      <td>...</td>\n",
       "      <td>...</td>\n",
       "      <td>...</td>\n",
       "      <td>...</td>\n",
       "    </tr>\n",
       "    <tr>\n",
       "      <th>138209</th>\n",
       "      <td>AA_138210</td>\n",
       "      <td>0</td>\n",
       "      <td>76.701229</td>\n",
       "      <td>25.839672</td>\n",
       "    </tr>\n",
       "    <tr>\n",
       "      <th>138210</th>\n",
       "      <td>AA_138211</td>\n",
       "      <td>0</td>\n",
       "      <td>97.543397</td>\n",
       "      <td>45.877206</td>\n",
       "    </tr>\n",
       "    <tr>\n",
       "      <th>138211</th>\n",
       "      <td>AA_138212</td>\n",
       "      <td>1</td>\n",
       "      <td>40.013542</td>\n",
       "      <td>29.868723</td>\n",
       "    </tr>\n",
       "    <tr>\n",
       "      <th>138212</th>\n",
       "      <td>AA_138213</td>\n",
       "      <td>1</td>\n",
       "      <td>18.822760</td>\n",
       "      <td>32.399963</td>\n",
       "    </tr>\n",
       "    <tr>\n",
       "      <th>138213</th>\n",
       "      <td>AA_138214</td>\n",
       "      <td>3</td>\n",
       "      <td>16.120961</td>\n",
       "      <td>38.884878</td>\n",
       "    </tr>\n",
       "  </tbody>\n",
       "</table>\n",
       "<p>138214 rows × 4 columns</p>\n",
       "</div>"
      ],
      "text/plain": [
       "        Animal_ID  Condition  length(cm)  height(cm)\n",
       "0            AA_1          2   49.435273    7.397711\n",
       "1            AA_2          3   64.279624   27.090308\n",
       "2            AA_3          1   62.866585   38.513557\n",
       "3            AA_4          1   84.461722   18.538097\n",
       "4            AA_5          1   91.032094   18.061219\n",
       "...           ...        ...         ...         ...\n",
       "138209  AA_138210          0   76.701229   25.839672\n",
       "138210  AA_138211          0   97.543397   45.877206\n",
       "138211  AA_138212          1   40.013542   29.868723\n",
       "138212  AA_138213          1   18.822760   32.399963\n",
       "138213  AA_138214          3   16.120961   38.884878\n",
       "\n",
       "[138214 rows x 4 columns]"
      ]
     },
     "execution_count": 140,
     "metadata": {},
     "output_type": "execute_result"
    }
   ],
   "source": [
    "df_Pet_Char\n"
   ]
  },
  {
   "cell_type": "code",
   "execution_count": 141,
   "metadata": {},
   "outputs": [],
   "source": [
    "#df_Pet_Char.to_csv(r'C:\\Users\\16508\\Downloads\\Pet_char_dataset_file_Cleaned.csv', index = False)"
   ]
  },
  {
   "cell_type": "code",
   "execution_count": 142,
   "metadata": {},
   "outputs": [
    {
     "data": {
      "text/html": [
       "<div>\n",
       "<style scoped>\n",
       "    .dataframe tbody tr th:only-of-type {\n",
       "        vertical-align: middle;\n",
       "    }\n",
       "\n",
       "    .dataframe tbody tr th {\n",
       "        vertical-align: top;\n",
       "    }\n",
       "\n",
       "    .dataframe thead th {\n",
       "        text-align: right;\n",
       "    }\n",
       "</style>\n",
       "<table border=\"1\" class=\"dataframe\">\n",
       "  <thead>\n",
       "    <tr style=\"text-align: right;\">\n",
       "      <th></th>\n",
       "      <th>Animal_ID</th>\n",
       "      <th>NAME</th>\n",
       "      <th>Adopted Date</th>\n",
       "      <th>Pet DOB</th>\n",
       "      <th>Adopted_Age_Days</th>\n",
       "      <th>Adopted_Age_Months</th>\n",
       "      <th>Adopted_Age_Years</th>\n",
       "      <th>Outcome_Type</th>\n",
       "      <th>Outcome_Subtype</th>\n",
       "      <th>Animal_Type</th>\n",
       "      <th>Sex_On_Adop</th>\n",
       "      <th>Breed</th>\n",
       "      <th>Color</th>\n",
       "      <th>Condition</th>\n",
       "      <th>length(cm)</th>\n",
       "      <th>height(cm)</th>\n",
       "    </tr>\n",
       "  </thead>\n",
       "  <tbody>\n",
       "    <tr>\n",
       "      <th>0</th>\n",
       "      <td>AA_1</td>\n",
       "      <td>Scamp</td>\n",
       "      <td>20/12/2014</td>\n",
       "      <td>7/9/2007</td>\n",
       "      <td>2661</td>\n",
       "      <td>89</td>\n",
       "      <td>7</td>\n",
       "      <td>Return to Owner</td>\n",
       "      <td>Null</td>\n",
       "      <td>Dog</td>\n",
       "      <td>Neutered Male</td>\n",
       "      <td>Spinone Italiano Mix</td>\n",
       "      <td>Yellow&amp;White</td>\n",
       "      <td>2</td>\n",
       "      <td>49.435273</td>\n",
       "      <td>7.397711</td>\n",
       "    </tr>\n",
       "    <tr>\n",
       "      <th>1</th>\n",
       "      <td>AA_2</td>\n",
       "      <td>Scamp</td>\n",
       "      <td>7/12/2017</td>\n",
       "      <td>7/9/2007</td>\n",
       "      <td>3744</td>\n",
       "      <td>125</td>\n",
       "      <td>10</td>\n",
       "      <td>Return to Owner</td>\n",
       "      <td>Null</td>\n",
       "      <td>Dog</td>\n",
       "      <td>Neutered Male</td>\n",
       "      <td>Spinone Italiano Mix</td>\n",
       "      <td>Yellow&amp;White</td>\n",
       "      <td>3</td>\n",
       "      <td>64.279624</td>\n",
       "      <td>27.090308</td>\n",
       "    </tr>\n",
       "    <tr>\n",
       "      <th>2</th>\n",
       "      <td>AA_3</td>\n",
       "      <td>Scamp</td>\n",
       "      <td>8/3/2014</td>\n",
       "      <td>7/9/2007</td>\n",
       "      <td>2374</td>\n",
       "      <td>79</td>\n",
       "      <td>7</td>\n",
       "      <td>Return to Owner</td>\n",
       "      <td>Null</td>\n",
       "      <td>Dog</td>\n",
       "      <td>Neutered Male</td>\n",
       "      <td>Spinone Italiano Mix</td>\n",
       "      <td>Yellow&amp;White</td>\n",
       "      <td>1</td>\n",
       "      <td>62.866585</td>\n",
       "      <td>38.513557</td>\n",
       "    </tr>\n",
       "    <tr>\n",
       "      <th>3</th>\n",
       "      <td>AA_4</td>\n",
       "      <td>Oreo</td>\n",
       "      <td>7/4/2014</td>\n",
       "      <td>4/2/2004</td>\n",
       "      <td>3715</td>\n",
       "      <td>124</td>\n",
       "      <td>10</td>\n",
       "      <td>Transfer</td>\n",
       "      <td>Partner</td>\n",
       "      <td>Dog</td>\n",
       "      <td>Neutered Male</td>\n",
       "      <td>Dachshund</td>\n",
       "      <td>Tricolor</td>\n",
       "      <td>1</td>\n",
       "      <td>84.461722</td>\n",
       "      <td>18.538097</td>\n",
       "    </tr>\n",
       "    <tr>\n",
       "      <th>4</th>\n",
       "      <td>AA_5</td>\n",
       "      <td>Bandit</td>\n",
       "      <td>16/11/2013</td>\n",
       "      <td>16/10/1997</td>\n",
       "      <td>5875</td>\n",
       "      <td>196</td>\n",
       "      <td>16</td>\n",
       "      <td>Return to Owner</td>\n",
       "      <td>Null</td>\n",
       "      <td>Dog</td>\n",
       "      <td>Neutered Male</td>\n",
       "      <td>Shetland Sheepdog</td>\n",
       "      <td>Brown&amp;White</td>\n",
       "      <td>1</td>\n",
       "      <td>91.032094</td>\n",
       "      <td>18.061219</td>\n",
       "    </tr>\n",
       "    <tr>\n",
       "      <th>...</th>\n",
       "      <td>...</td>\n",
       "      <td>...</td>\n",
       "      <td>...</td>\n",
       "      <td>...</td>\n",
       "      <td>...</td>\n",
       "      <td>...</td>\n",
       "      <td>...</td>\n",
       "      <td>...</td>\n",
       "      <td>...</td>\n",
       "      <td>...</td>\n",
       "      <td>...</td>\n",
       "      <td>...</td>\n",
       "      <td>...</td>\n",
       "      <td>...</td>\n",
       "      <td>...</td>\n",
       "      <td>...</td>\n",
       "    </tr>\n",
       "    <tr>\n",
       "      <th>96959</th>\n",
       "      <td>AA_137969</td>\n",
       "      <td>197 Grams</td>\n",
       "      <td>3/9/2022</td>\n",
       "      <td>24/03/2022</td>\n",
       "      <td>163</td>\n",
       "      <td>5</td>\n",
       "      <td>0</td>\n",
       "      <td>Transfer</td>\n",
       "      <td>Partner</td>\n",
       "      <td>Cat</td>\n",
       "      <td>Intact Female</td>\n",
       "      <td>Domestic Shorthair Mix</td>\n",
       "      <td>Brown Tabby</td>\n",
       "      <td>0</td>\n",
       "      <td>96.225287</td>\n",
       "      <td>46.199370</td>\n",
       "    </tr>\n",
       "    <tr>\n",
       "      <th>96960</th>\n",
       "      <td>AA_138035</td>\n",
       "      <td>Smoke</td>\n",
       "      <td>2/4/2022</td>\n",
       "      <td>28/03/2022</td>\n",
       "      <td>5</td>\n",
       "      <td>0</td>\n",
       "      <td>0</td>\n",
       "      <td>Return to Owner</td>\n",
       "      <td>Null</td>\n",
       "      <td>Dog</td>\n",
       "      <td>Intact Female</td>\n",
       "      <td>Pit Bull Mix</td>\n",
       "      <td>Blue</td>\n",
       "      <td>2</td>\n",
       "      <td>26.450476</td>\n",
       "      <td>35.161134</td>\n",
       "    </tr>\n",
       "    <tr>\n",
       "      <th>96961</th>\n",
       "      <td>AA_138203</td>\n",
       "      <td>A854599</td>\n",
       "      <td>3/6/2022</td>\n",
       "      <td>6/4/2022</td>\n",
       "      <td>58</td>\n",
       "      <td>2</td>\n",
       "      <td>0</td>\n",
       "      <td>Transfer</td>\n",
       "      <td>Partner</td>\n",
       "      <td>Cat</td>\n",
       "      <td>Intact Male</td>\n",
       "      <td>Domestic Longhair</td>\n",
       "      <td>Brown Tabby</td>\n",
       "      <td>2</td>\n",
       "      <td>20.508418</td>\n",
       "      <td>22.439649</td>\n",
       "    </tr>\n",
       "    <tr>\n",
       "      <th>96962</th>\n",
       "      <td>AA_138204</td>\n",
       "      <td>A854600</td>\n",
       "      <td>3/6/2022</td>\n",
       "      <td>6/4/2022</td>\n",
       "      <td>58</td>\n",
       "      <td>2</td>\n",
       "      <td>0</td>\n",
       "      <td>Transfer</td>\n",
       "      <td>Partner</td>\n",
       "      <td>Cat</td>\n",
       "      <td>Intact Male</td>\n",
       "      <td>Domestic Shorthair</td>\n",
       "      <td>Black&amp;White</td>\n",
       "      <td>0</td>\n",
       "      <td>74.977407</td>\n",
       "      <td>48.169271</td>\n",
       "    </tr>\n",
       "    <tr>\n",
       "      <th>96963</th>\n",
       "      <td>AA_138213</td>\n",
       "      <td>156 Grams</td>\n",
       "      <td>4/6/2022</td>\n",
       "      <td>8/4/2022</td>\n",
       "      <td>57</td>\n",
       "      <td>2</td>\n",
       "      <td>0</td>\n",
       "      <td>Transfer</td>\n",
       "      <td>Partner</td>\n",
       "      <td>Cat</td>\n",
       "      <td>Intact Female</td>\n",
       "      <td>Domestic Shorthair</td>\n",
       "      <td>Brown Tabby</td>\n",
       "      <td>1</td>\n",
       "      <td>18.822760</td>\n",
       "      <td>32.399963</td>\n",
       "    </tr>\n",
       "  </tbody>\n",
       "</table>\n",
       "<p>96964 rows × 16 columns</p>\n",
       "</div>"
      ],
      "text/plain": [
       "       Animal_ID       NAME Adopted Date     Pet DOB  Adopted_Age_Days  \\\n",
       "0           AA_1      Scamp   20/12/2014    7/9/2007              2661   \n",
       "1           AA_2      Scamp    7/12/2017    7/9/2007              3744   \n",
       "2           AA_3      Scamp     8/3/2014    7/9/2007              2374   \n",
       "3           AA_4       Oreo     7/4/2014    4/2/2004              3715   \n",
       "4           AA_5     Bandit   16/11/2013  16/10/1997              5875   \n",
       "...          ...        ...          ...         ...               ...   \n",
       "96959  AA_137969  197 Grams     3/9/2022  24/03/2022               163   \n",
       "96960  AA_138035      Smoke     2/4/2022  28/03/2022                 5   \n",
       "96961  AA_138203    A854599     3/6/2022    6/4/2022                58   \n",
       "96962  AA_138204    A854600     3/6/2022    6/4/2022                58   \n",
       "96963  AA_138213  156 Grams     4/6/2022    8/4/2022                57   \n",
       "\n",
       "       Adopted_Age_Months  Adopted_Age_Years     Outcome_Type Outcome_Subtype  \\\n",
       "0                      89                  7  Return to Owner            Null   \n",
       "1                     125                 10  Return to Owner            Null   \n",
       "2                      79                  7  Return to Owner            Null   \n",
       "3                     124                 10         Transfer         Partner   \n",
       "4                     196                 16  Return to Owner            Null   \n",
       "...                   ...                ...              ...             ...   \n",
       "96959                   5                  0         Transfer         Partner   \n",
       "96960                   0                  0  Return to Owner            Null   \n",
       "96961                   2                  0         Transfer         Partner   \n",
       "96962                   2                  0         Transfer         Partner   \n",
       "96963                   2                  0         Transfer         Partner   \n",
       "\n",
       "      Animal_Type    Sex_On_Adop                   Breed         Color  \\\n",
       "0             Dog  Neutered Male    Spinone Italiano Mix  Yellow&White   \n",
       "1             Dog  Neutered Male    Spinone Italiano Mix  Yellow&White   \n",
       "2             Dog  Neutered Male    Spinone Italiano Mix  Yellow&White   \n",
       "3             Dog  Neutered Male               Dachshund      Tricolor   \n",
       "4             Dog  Neutered Male       Shetland Sheepdog   Brown&White   \n",
       "...           ...            ...                     ...           ...   \n",
       "96959         Cat  Intact Female  Domestic Shorthair Mix   Brown Tabby   \n",
       "96960         Dog  Intact Female            Pit Bull Mix          Blue   \n",
       "96961         Cat    Intact Male       Domestic Longhair   Brown Tabby   \n",
       "96962         Cat    Intact Male      Domestic Shorthair   Black&White   \n",
       "96963         Cat  Intact Female      Domestic Shorthair   Brown Tabby   \n",
       "\n",
       "       Condition  length(cm)  height(cm)  \n",
       "0              2   49.435273    7.397711  \n",
       "1              3   64.279624   27.090308  \n",
       "2              1   62.866585   38.513557  \n",
       "3              1   84.461722   18.538097  \n",
       "4              1   91.032094   18.061219  \n",
       "...          ...         ...         ...  \n",
       "96959          0   96.225287   46.199370  \n",
       "96960          2   26.450476   35.161134  \n",
       "96961          2   20.508418   22.439649  \n",
       "96962          0   74.977407   48.169271  \n",
       "96963          1   18.822760   32.399963  \n",
       "\n",
       "[96964 rows x 16 columns]"
      ]
     },
     "execution_count": 142,
     "metadata": {},
     "output_type": "execute_result"
    }
   ],
   "source": [
    "#Joining both the tables using panda merge function!\n",
    "mergedRes = pd.merge(df_Pet, df_Pet_Char)\n",
    "mergedRes"
   ]
  },
  {
   "cell_type": "code",
   "execution_count": 143,
   "metadata": {},
   "outputs": [],
   "source": [
    "#mergedRes.to_csv(r'C:\\Users\\16508\\Downloads\\Mearged_Petdataset_file_Cleaned.csv', index = False)"
   ]
  },
  {
   "cell_type": "code",
   "execution_count": 144,
   "metadata": {},
   "outputs": [
    {
     "name": "stdout",
     "output_type": "stream",
     "text": [
      "Animal_ID             0\n",
      "NAME                  0\n",
      "Adopted Date          0\n",
      "Pet DOB               0\n",
      "Adopted_Age_Days      0\n",
      "Adopted_Age_Months    0\n",
      "Adopted_Age_Years     0\n",
      "Outcome_Type          0\n",
      "Outcome_Subtype       0\n",
      "Animal_Type           0\n",
      "Sex_On_Adop           0\n",
      "Breed                 0\n",
      "Color                 0\n",
      "Condition             0\n",
      "length(cm)            0\n",
      "height(cm)            0\n",
      "dtype: int64\n"
     ]
    },
    {
     "data": {
      "text/plain": [
       "False"
      ]
     },
     "execution_count": 144,
     "metadata": {},
     "output_type": "execute_result"
    }
   ],
   "source": [
    "# Testing if any null values\n",
    "print(mergedRes.isnull().sum())\n",
    "\n",
    "mergedRes.isnull().values.any()\n",
    "\n",
    "# Conclusion: No null values found"
   ]
  },
  {
   "cell_type": "code",
   "execution_count": 145,
   "metadata": {},
   "outputs": [
    {
     "data": {
      "text/plain": [
       "array([[<matplotlib.axes._subplots.AxesSubplot object at 0x000001BB5DC2CA60>,\n",
       "        <matplotlib.axes._subplots.AxesSubplot object at 0x000001BB5E810F70>],\n",
       "       [<matplotlib.axes._subplots.AxesSubplot object at 0x000001BB5C714370>,\n",
       "        <matplotlib.axes._subplots.AxesSubplot object at 0x000001BB5CB5CE50>],\n",
       "       [<matplotlib.axes._subplots.AxesSubplot object at 0x000001BB5E814190>,\n",
       "        <matplotlib.axes._subplots.AxesSubplot object at 0x000001BB5D5E6040>]],\n",
       "      dtype=object)"
      ]
     },
     "execution_count": 145,
     "metadata": {},
     "output_type": "execute_result"
    },
    {
     "data": {
      "image/png": "[encoded data removed]",
      "text/plain": [
       "<Figure size 1800x1800 with 6 Axes>"
      ]
     },
     "metadata": {
      "needs_background": "light"
     },
     "output_type": "display_data"
    }
   ],
   "source": [
    "#ploting the histogram for comparing the features!\n",
    "mergedRes.hist(figsize=(25,25))"
   ]
  },
  {
   "cell_type": "markdown",
   "metadata": {},
   "source": [
    "## Numerical vs. Categorical Data Types!"
   ]
  },
  {
   "cell_type": "code",
   "execution_count": 146,
   "metadata": {},
   "outputs": [
    {
     "data": {
      "text/plain": [
       "Index(['Adopted_Age_Days', 'Adopted_Age_Months', 'Adopted_Age_Years',\n",
       "       'Condition', 'length(cm)', 'height(cm)'],\n",
       "      dtype='object')"
      ]
     },
     "execution_count": 146,
     "metadata": {},
     "output_type": "execute_result"
    }
   ],
   "source": [
    "mergedRes._get_numeric_data().columns"
   ]
  },
  {
   "cell_type": "code",
   "execution_count": 147,
   "metadata": {},
   "outputs": [
    {
     "data": {
      "text/plain": [
       "Index(['Animal_ID', 'NAME', 'Adopted Date', 'Pet DOB', 'Outcome_Type',\n",
       "       'Outcome_Subtype', 'Animal_Type', 'Sex_On_Adop', 'Breed', 'Color'],\n",
       "      dtype='object')"
      ]
     },
     "execution_count": 147,
     "metadata": {},
     "output_type": "execute_result"
    }
   ],
   "source": [
    "mergedRes.select_dtypes(include=['object']).columns"
   ]
  },
  {
   "cell_type": "code",
   "execution_count": 148,
   "metadata": {},
   "outputs": [
    {
     "data": {
      "text/plain": [
       "<matplotlib.axes._subplots.AxesSubplot at 0x1bb61459100>"
      ]
     },
     "execution_count": 148,
     "metadata": {},
     "output_type": "execute_result"
    },
    {
     "data": {
      "image/png": "[encoded data removed]",
      "text/plain": [
       "<Figure size 720x720 with 1 Axes>"
      ]
     },
     "metadata": {
      "needs_background": "light"
     },
     "output_type": "display_data"
    }
   ],
   "source": [
    "plt.figure(figsize=(10,10))\n",
    "sns.barplot(x=\"Animal_Type\", y=\"length(cm)\", data=mergedRes)\n",
    "#plt.xticks(rotation=90)"
   ]
  },
  {
   "cell_type": "code",
   "execution_count": 149,
   "metadata": {},
   "outputs": [
    {
     "data": {
      "text/plain": [
       "Adoption           52355\n",
       "Return to Owner    22043\n",
       "Transfer           19329\n",
       "Euthanasia          1856\n",
       "Rto-Adopt            855\n",
       "Died                 424\n",
       "Missing               54\n",
       "Disposal              47\n",
       "Relocate               1\n",
       "Name: Outcome_Type, dtype: int64"
      ]
     },
     "execution_count": 149,
     "metadata": {},
     "output_type": "execute_result"
    }
   ],
   "source": [
    "mergedRes['Outcome_Type'].value_counts()"
   ]
  },
  {
   "cell_type": "code",
   "execution_count": 150,
   "metadata": {},
   "outputs": [],
   "source": [
    "\n",
    "#le = LabelEncoder()\n",
    "\n",
    "#mergedRes['Outcome_Type']= le.fit_transform(mergedRes['Outcome_Type'])"
   ]
  },
  {
   "cell_type": "code",
   "execution_count": 151,
   "metadata": {},
   "outputs": [
    {
     "data": {
      "text/plain": [
       "Adoption           52355\n",
       "Return to Owner    22043\n",
       "Transfer           19329\n",
       "Euthanasia          1856\n",
       "Rto-Adopt            855\n",
       "Died                 424\n",
       "Missing               54\n",
       "Disposal              47\n",
       "Relocate               1\n",
       "Name: Outcome_Type, dtype: int64"
      ]
     },
     "execution_count": 151,
     "metadata": {},
     "output_type": "execute_result"
    }
   ],
   "source": [
    "mergedRes['Outcome_Type'].value_counts()"
   ]
  },
  {
   "cell_type": "code",
   "execution_count": 153,
   "metadata": {},
   "outputs": [],
   "source": [
    "#plt.figure(figsize=(40,20))\n",
    "#plt.scatter(x= mergedRes['height(cm)'], y=mergedRes['length(cm)'], c =mergedRes['Outcome_Type'])\n",
    "#plt.show()"
   ]
  },
  {
   "cell_type": "code",
   "execution_count": 154,
   "metadata": {},
   "outputs": [
    {
     "data": {
      "text/plain": [
       "<matplotlib.axes._subplots.AxesSubplot at 0x1bb5a486250>"
      ]
     },
     "execution_count": 154,
     "metadata": {},
     "output_type": "execute_result"
    },
    {
     "data": {
      "image/png": "[encoded data removed]",
      "text/plain": [
       "<Figure size 720x720 with 1 Axes>"
      ]
     },
     "metadata": {
      "needs_background": "light"
     },
     "output_type": "display_data"
    }
   ],
   "source": [
    "plt.figure(figsize=(10,10))\n",
    "sns.barplot(x=\"Outcome_Type\", y=\"height(cm)\", data=mergedRes)"
   ]
  },
  {
   "cell_type": "code",
   "execution_count": 155,
   "metadata": {},
   "outputs": [],
   "source": [
    "le = LabelEncoder()\n",
    "\n",
    "mergedRes['']= le.fit_transform(mergedRes['Outcome_Type'])"
   ]
  },
  {
   "cell_type": "code",
   "execution_count": 156,
   "metadata": {},
   "outputs": [
    {
     "data": {
      "text/plain": [
       "0    52355\n",
       "6    22043\n",
       "8    19329\n",
       "3     1856\n",
       "7      855\n",
       "1      424\n",
       "4       54\n",
       "2       47\n",
       "5        1\n",
       "Name: Outcome_Type, dtype: int64"
      ]
     },
     "execution_count": 156,
     "metadata": {},
     "output_type": "execute_result"
    }
   ],
   "source": [
    "mergedRes['Outcome_Type'].value_counts()"
   ]
  },
  {
   "cell_type": "code",
   "execution_count": 166,
   "metadata": {},
   "outputs": [
    {
     "data": {
      "text/plain": [
       "<matplotlib.axes._subplots.AxesSubplot at 0x1bb5ec0ca00>"
      ]
     },
     "execution_count": 166,
     "metadata": {},
     "output_type": "execute_result"
    },
    {
     "data": {
      "image/png": "[encoded data removed]",
      "text/plain": [
       "<Figure size 720x720 with 1 Axes>"
      ]
     },
     "metadata": {
      "needs_background": "light"
     },
     "output_type": "display_data"
    }
   ],
   "source": [
    "mergedRes['Outcome_Type'].hist(figsize=(10,10))"
   ]
  },
  {
   "cell_type": "code",
   "execution_count": 168,
   "metadata": {},
   "outputs": [
    {
     "data": {
      "text/html": [
       "<div>\n",
       "<style scoped>\n",
       "    .dataframe tbody tr th:only-of-type {\n",
       "        vertical-align: middle;\n",
       "    }\n",
       "\n",
       "    .dataframe tbody tr th {\n",
       "        vertical-align: top;\n",
       "    }\n",
       "\n",
       "    .dataframe thead th {\n",
       "        text-align: right;\n",
       "    }\n",
       "</style>\n",
       "<table border=\"1\" class=\"dataframe\">\n",
       "  <thead>\n",
       "    <tr style=\"text-align: right;\">\n",
       "      <th></th>\n",
       "      <th>Animal_ID</th>\n",
       "      <th>NAME</th>\n",
       "      <th>Adopted Date</th>\n",
       "      <th>Pet DOB</th>\n",
       "      <th>Adopted_Age_Days</th>\n",
       "      <th>Adopted_Age_Months</th>\n",
       "      <th>Adopted_Age_Years</th>\n",
       "      <th>Outcome_Type</th>\n",
       "      <th>Outcome_Subtype</th>\n",
       "      <th>Animal_Type</th>\n",
       "      <th>Sex_On_Adop</th>\n",
       "      <th>Breed</th>\n",
       "      <th>Color</th>\n",
       "      <th>Condition</th>\n",
       "      <th>length(cm)</th>\n",
       "      <th>height(cm)</th>\n",
       "    </tr>\n",
       "  </thead>\n",
       "  <tbody>\n",
       "    <tr>\n",
       "      <th>0</th>\n",
       "      <td>AA_1</td>\n",
       "      <td>Scamp</td>\n",
       "      <td>20/12/2014</td>\n",
       "      <td>7/9/2007</td>\n",
       "      <td>2661</td>\n",
       "      <td>89</td>\n",
       "      <td>7</td>\n",
       "      <td>6</td>\n",
       "      <td>Null</td>\n",
       "      <td>Dog</td>\n",
       "      <td>Neutered Male</td>\n",
       "      <td>Spinone Italiano Mix</td>\n",
       "      <td>Yellow&amp;White</td>\n",
       "      <td>2</td>\n",
       "      <td>49.435273</td>\n",
       "      <td>7.397711</td>\n",
       "    </tr>\n",
       "    <tr>\n",
       "      <th>1</th>\n",
       "      <td>AA_2</td>\n",
       "      <td>Scamp</td>\n",
       "      <td>7/12/2017</td>\n",
       "      <td>7/9/2007</td>\n",
       "      <td>3744</td>\n",
       "      <td>125</td>\n",
       "      <td>10</td>\n",
       "      <td>6</td>\n",
       "      <td>Null</td>\n",
       "      <td>Dog</td>\n",
       "      <td>Neutered Male</td>\n",
       "      <td>Spinone Italiano Mix</td>\n",
       "      <td>Yellow&amp;White</td>\n",
       "      <td>3</td>\n",
       "      <td>64.279624</td>\n",
       "      <td>27.090308</td>\n",
       "    </tr>\n",
       "    <tr>\n",
       "      <th>2</th>\n",
       "      <td>AA_3</td>\n",
       "      <td>Scamp</td>\n",
       "      <td>8/3/2014</td>\n",
       "      <td>7/9/2007</td>\n",
       "      <td>2374</td>\n",
       "      <td>79</td>\n",
       "      <td>7</td>\n",
       "      <td>6</td>\n",
       "      <td>Null</td>\n",
       "      <td>Dog</td>\n",
       "      <td>Neutered Male</td>\n",
       "      <td>Spinone Italiano Mix</td>\n",
       "      <td>Yellow&amp;White</td>\n",
       "      <td>1</td>\n",
       "      <td>62.866585</td>\n",
       "      <td>38.513557</td>\n",
       "    </tr>\n",
       "    <tr>\n",
       "      <th>3</th>\n",
       "      <td>AA_4</td>\n",
       "      <td>Oreo</td>\n",
       "      <td>7/4/2014</td>\n",
       "      <td>4/2/2004</td>\n",
       "      <td>3715</td>\n",
       "      <td>124</td>\n",
       "      <td>10</td>\n",
       "      <td>8</td>\n",
       "      <td>Partner</td>\n",
       "      <td>Dog</td>\n",
       "      <td>Neutered Male</td>\n",
       "      <td>Dachshund</td>\n",
       "      <td>Tricolor</td>\n",
       "      <td>1</td>\n",
       "      <td>84.461722</td>\n",
       "      <td>18.538097</td>\n",
       "    </tr>\n",
       "    <tr>\n",
       "      <th>4</th>\n",
       "      <td>AA_5</td>\n",
       "      <td>Bandit</td>\n",
       "      <td>16/11/2013</td>\n",
       "      <td>16/10/1997</td>\n",
       "      <td>5875</td>\n",
       "      <td>196</td>\n",
       "      <td>16</td>\n",
       "      <td>6</td>\n",
       "      <td>Null</td>\n",
       "      <td>Dog</td>\n",
       "      <td>Neutered Male</td>\n",
       "      <td>Shetland Sheepdog</td>\n",
       "      <td>Brown&amp;White</td>\n",
       "      <td>1</td>\n",
       "      <td>91.032094</td>\n",
       "      <td>18.061219</td>\n",
       "    </tr>\n",
       "    <tr>\n",
       "      <th>...</th>\n",
       "      <td>...</td>\n",
       "      <td>...</td>\n",
       "      <td>...</td>\n",
       "      <td>...</td>\n",
       "      <td>...</td>\n",
       "      <td>...</td>\n",
       "      <td>...</td>\n",
       "      <td>...</td>\n",
       "      <td>...</td>\n",
       "      <td>...</td>\n",
       "      <td>...</td>\n",
       "      <td>...</td>\n",
       "      <td>...</td>\n",
       "      <td>...</td>\n",
       "      <td>...</td>\n",
       "      <td>...</td>\n",
       "    </tr>\n",
       "    <tr>\n",
       "      <th>96959</th>\n",
       "      <td>AA_137969</td>\n",
       "      <td>197 Grams</td>\n",
       "      <td>3/9/2022</td>\n",
       "      <td>24/03/2022</td>\n",
       "      <td>163</td>\n",
       "      <td>5</td>\n",
       "      <td>0</td>\n",
       "      <td>8</td>\n",
       "      <td>Partner</td>\n",
       "      <td>Cat</td>\n",
       "      <td>Intact Female</td>\n",
       "      <td>Domestic Shorthair Mix</td>\n",
       "      <td>Brown Tabby</td>\n",
       "      <td>0</td>\n",
       "      <td>96.225287</td>\n",
       "      <td>46.199370</td>\n",
       "    </tr>\n",
       "    <tr>\n",
       "      <th>96960</th>\n",
       "      <td>AA_138035</td>\n",
       "      <td>Smoke</td>\n",
       "      <td>2/4/2022</td>\n",
       "      <td>28/03/2022</td>\n",
       "      <td>5</td>\n",
       "      <td>0</td>\n",
       "      <td>0</td>\n",
       "      <td>6</td>\n",
       "      <td>Null</td>\n",
       "      <td>Dog</td>\n",
       "      <td>Intact Female</td>\n",
       "      <td>Pit Bull Mix</td>\n",
       "      <td>Blue</td>\n",
       "      <td>2</td>\n",
       "      <td>26.450476</td>\n",
       "      <td>35.161134</td>\n",
       "    </tr>\n",
       "    <tr>\n",
       "      <th>96961</th>\n",
       "      <td>AA_138203</td>\n",
       "      <td>A854599</td>\n",
       "      <td>3/6/2022</td>\n",
       "      <td>6/4/2022</td>\n",
       "      <td>58</td>\n",
       "      <td>2</td>\n",
       "      <td>0</td>\n",
       "      <td>8</td>\n",
       "      <td>Partner</td>\n",
       "      <td>Cat</td>\n",
       "      <td>Intact Male</td>\n",
       "      <td>Domestic Longhair</td>\n",
       "      <td>Brown Tabby</td>\n",
       "      <td>2</td>\n",
       "      <td>20.508418</td>\n",
       "      <td>22.439649</td>\n",
       "    </tr>\n",
       "    <tr>\n",
       "      <th>96962</th>\n",
       "      <td>AA_138204</td>\n",
       "      <td>A854600</td>\n",
       "      <td>3/6/2022</td>\n",
       "      <td>6/4/2022</td>\n",
       "      <td>58</td>\n",
       "      <td>2</td>\n",
       "      <td>0</td>\n",
       "      <td>8</td>\n",
       "      <td>Partner</td>\n",
       "      <td>Cat</td>\n",
       "      <td>Intact Male</td>\n",
       "      <td>Domestic Shorthair</td>\n",
       "      <td>Black&amp;White</td>\n",
       "      <td>0</td>\n",
       "      <td>74.977407</td>\n",
       "      <td>48.169271</td>\n",
       "    </tr>\n",
       "    <tr>\n",
       "      <th>96963</th>\n",
       "      <td>AA_138213</td>\n",
       "      <td>156 Grams</td>\n",
       "      <td>4/6/2022</td>\n",
       "      <td>8/4/2022</td>\n",
       "      <td>57</td>\n",
       "      <td>2</td>\n",
       "      <td>0</td>\n",
       "      <td>8</td>\n",
       "      <td>Partner</td>\n",
       "      <td>Cat</td>\n",
       "      <td>Intact Female</td>\n",
       "      <td>Domestic Shorthair</td>\n",
       "      <td>Brown Tabby</td>\n",
       "      <td>1</td>\n",
       "      <td>18.822760</td>\n",
       "      <td>32.399963</td>\n",
       "    </tr>\n",
       "  </tbody>\n",
       "</table>\n",
       "<p>96964 rows × 16 columns</p>\n",
       "</div>"
      ],
      "text/plain": [
       "       Animal_ID       NAME Adopted Date     Pet DOB  Adopted_Age_Days  \\\n",
       "0           AA_1      Scamp   20/12/2014    7/9/2007              2661   \n",
       "1           AA_2      Scamp    7/12/2017    7/9/2007              3744   \n",
       "2           AA_3      Scamp     8/3/2014    7/9/2007              2374   \n",
       "3           AA_4       Oreo     7/4/2014    4/2/2004              3715   \n",
       "4           AA_5     Bandit   16/11/2013  16/10/1997              5875   \n",
       "...          ...        ...          ...         ...               ...   \n",
       "96959  AA_137969  197 Grams     3/9/2022  24/03/2022               163   \n",
       "96960  AA_138035      Smoke     2/4/2022  28/03/2022                 5   \n",
       "96961  AA_138203    A854599     3/6/2022    6/4/2022                58   \n",
       "96962  AA_138204    A854600     3/6/2022    6/4/2022                58   \n",
       "96963  AA_138213  156 Grams     4/6/2022    8/4/2022                57   \n",
       "\n",
       "       Adopted_Age_Months  Adopted_Age_Years  Outcome_Type Outcome_Subtype  \\\n",
       "0                      89                  7             6            Null   \n",
       "1                     125                 10             6            Null   \n",
       "2                      79                  7             6            Null   \n",
       "3                     124                 10             8         Partner   \n",
       "4                     196                 16             6            Null   \n",
       "...                   ...                ...           ...             ...   \n",
       "96959                   5                  0             8         Partner   \n",
       "96960                   0                  0             6            Null   \n",
       "96961                   2                  0             8         Partner   \n",
       "96962                   2                  0             8         Partner   \n",
       "96963                   2                  0             8         Partner   \n",
       "\n",
       "      Animal_Type    Sex_On_Adop                   Breed         Color  \\\n",
       "0             Dog  Neutered Male    Spinone Italiano Mix  Yellow&White   \n",
       "1             Dog  Neutered Male    Spinone Italiano Mix  Yellow&White   \n",
       "2             Dog  Neutered Male    Spinone Italiano Mix  Yellow&White   \n",
       "3             Dog  Neutered Male               Dachshund      Tricolor   \n",
       "4             Dog  Neutered Male       Shetland Sheepdog   Brown&White   \n",
       "...           ...            ...                     ...           ...   \n",
       "96959         Cat  Intact Female  Domestic Shorthair Mix   Brown Tabby   \n",
       "96960         Dog  Intact Female            Pit Bull Mix          Blue   \n",
       "96961         Cat    Intact Male       Domestic Longhair   Brown Tabby   \n",
       "96962         Cat    Intact Male      Domestic Shorthair   Black&White   \n",
       "96963         Cat  Intact Female      Domestic Shorthair   Brown Tabby   \n",
       "\n",
       "       Condition  length(cm)  height(cm)  \n",
       "0              2   49.435273    7.397711  \n",
       "1              3   64.279624   27.090308  \n",
       "2              1   62.866585   38.513557  \n",
       "3              1   84.461722   18.538097  \n",
       "4              1   91.032094   18.061219  \n",
       "...          ...         ...         ...  \n",
       "96959          0   96.225287   46.199370  \n",
       "96960          2   26.450476   35.161134  \n",
       "96961          2   20.508418   22.439649  \n",
       "96962          0   74.977407   48.169271  \n",
       "96963          1   18.822760   32.399963  \n",
       "\n",
       "[96964 rows x 16 columns]"
      ]
     },
     "execution_count": 168,
     "metadata": {},
     "output_type": "execute_result"
    }
   ],
   "source": [
    "mergedRes"
   ]
  },
  {
   "cell_type": "code",
   "execution_count": 164,
   "metadata": {},
   "outputs": [
    {
     "data": {
      "image/png": "[encoded data removed]",
      "text/plain": [
       "<Figure size 1440x576 with 1 Axes>"
      ]
     },
     "metadata": {
      "needs_background": "light"
     },
     "output_type": "display_data"
    }
   ],
   "source": [
    "# Create a histogram of Outcome_Type\n",
    "\n",
    "plt.figure(figsize=(20,8))\n",
    "\n",
    "_ = plt.hist(mergedRes['length(cm)'], bins=40)\n",
    "\n",
    "_ = plt.xlabel('length(cm)')\n",
    "\n",
    "_ = plt.ylabel('Number of Count')\n",
    "\n",
    "min_ylim, max_ylim = plt.ylim()\n",
    "plt.text(mergedRes['length(cm)'].mean(), max_ylim*0.9, 'Mean: {:.2f}'.format(mergedRes['length(cm)'].mean()), color='blue')\n",
    "plt.text(mergedRes['length(cm)'].median(), max_ylim*0.85, 'Median: {:.2f}'.format(mergedRes['length(cm)'].median()), color='red')\n",
    "\n",
    "_= plt.title('Outcome_Type Histogram with each features')\n",
    "\n"
   ]
  },
  {
   "cell_type": "markdown",
   "metadata": {},
   "source": [
    "## Step 4: Identify Outliers"
   ]
  },
  {
   "cell_type": "code",
   "execution_count": 167,
   "metadata": {},
   "outputs": [
    {
     "name": "stdout",
     "output_type": "stream",
     "text": [
      "96964\n",
      "87427\n",
      "When we have not removed any outliers from the dataset, we have 96964 entries\n",
      "When we have removed any outliers from the dataset, we have 87427 entries\n",
      "The proportion of outliers which exist when compared to the dataframe are: 0.09835609092034159\n"
     ]
    }
   ],
   "source": [
    "# Identify number of outliers comparing to whole dataset\n",
    "\n",
    "\n",
    "Q1=mergedRes.quantile(0.25)\n",
    "Q3=mergedRes.quantile(0.75)\n",
    "IQR = Q3-Q1\n",
    "\n",
    "index=mergedRes.index\n",
    "num_of_entry=len(index)\n",
    "print(str(num_of_entry))\n",
    "\n",
    "\n",
    "olfilter = ~((mergedRes < Q1 - 1.5 * IQR) | (mergedRes > Q3 + 1.5 *IQR)).any(axis=1)\n",
    "df1= mergedRes[olfilter]  \n",
    "index1=df1.index\n",
    "num_of_entry1=len(index1)\n",
    "print(num_of_entry1)\n",
    "\n",
    "#We have provided the print line, you need to provide the calculation after the quoted text:\n",
    "print (\"When we have not removed any outliers from the dataset, we have \" + str(num_of_entry) + \" entries\") \n",
    "\n",
    "\n",
    "#We have provided the print line, you need to provide the calculation after the quoted text:\n",
    "print (\"When we have removed any outliers from the dataset, we have \" + str(num_of_entry1) + \" entries\")\n",
    "print (\"The proportion of outliers which exist when compared to the dataframe are: \" + str(1-num_of_entry1/num_of_entry))\n",
    "\n"
   ]
  },
  {
   "cell_type": "code",
   "execution_count": null,
   "metadata": {},
   "outputs": [],
   "source": [
    "##Step two-- plot the relationship between price and variables\n",
    "\n",
    "\n",
    "plt.figure(figsize=(15,15))\n",
    "\n",
    "\n",
    "plt.title('relationship between Outcome_Type and variables')\n",
    "\n",
    "plt.subplot(4,4,1)\n",
    "sns.scatterplot(y='Outcome_Type',x='Animal_Type',data=df);\n",
    "\n",
    "plt.subplot(4,4,2)\n",
    "sns.scatterplot(y='Outcome_Type',x='Sqft_lot',data=df);\n",
    "\n",
    "plt.subplot(4,4,3)\n",
    "sns.scatterplot(y='Outcome_Type',x='Sqft_living15',data=df);\n",
    "\n",
    "plt.subplot(4,4,4)\n",
    "sns.scatterplot(y='Outcome_Type',x='Sqft_lot15',data=df);\n",
    "\n",
    "\n",
    "plt.subplot(4,4,5)\n",
    "sns.scatterplot(y='Outcome_Type',x='Sqft_above',data=df);\n",
    "\n",
    "plt.subplot(4,4,6)\n",
    "sns.scatterplot(y='Outcome_Type',x='Sqft_basement',data=df);\n",
    "\n",
    "plt.subplot(4,4,7)\n",
    "fig = sns.boxplot(x='Bedrooms', y=\"Outcome_Type\", data=df)\n",
    "fig.axis(ymin=0, ymax=3500000);\n",
    "\n",
    "plt.subplot(4,4,8)\n",
    "sns.scatterplot(y='Outcome_Type',x='Bathrooms',data=df);\n",
    "\n",
    "plt.subplot(4,4,13)\n",
    "sns.boxplot(x='Condition', y=\"Outcome_Type\", data=df)\n",
    "\n",
    "\n",
    "plt.tight_layout()\n",
    "plt.plot()\n",
    "\n",
    "\n"
   ]
  },
  {
   "cell_type": "code",
   "execution_count": 170,
   "metadata": {},
   "outputs": [
    {
     "data": {
      "image/png": "[encoded data removed]",
      "text/plain": [
       "<Figure size 864x576 with 1 Axes>"
      ]
     },
     "metadata": {
      "needs_background": "light"
     },
     "output_type": "display_data"
    },
    {
     "data": {
      "image/png": "[encoded data removed]",
      "text/plain": [
       "<Figure size 1440x1008 with 2 Axes>"
      ]
     },
     "metadata": {
      "needs_background": "light"
     },
     "output_type": "display_data"
    }
   ],
   "source": [
    "# Create a histogram of Price without Outliers\n",
    "\n",
    "\n",
    "\n",
    "plt.figure(figsize=(12,8))\n",
    "\n",
    "_ = plt.hist(mergedRes['Outcome_Type'], bins=50, alpha=0.7, label = 'Outcome_Type with outliers',)\n",
    "_ = plt.hist(df1['Outcome_Type'], bins=10, alpha=0.7, label = 'Outcome_Type without outliers')\n",
    "\n",
    "_ = plt.xlabel('Outcome_Type', fontsize=16)\n",
    "\n",
    "_ = plt.ylabel('Number of Houses',fontsize=16)\n",
    "\n",
    "min_ylim, max_ylim = plt.ylim()\n",
    "plt.text(mergedRes['Outcome_Type'].mean(), max_ylim*0.9, 'Mean: {:.2f}'.format(mergedRes['Outcome_Type'].mean()), color='blue')\n",
    "plt.text(df1['Outcome_Type'].mean(), max_ylim*0.5, 'Mean: {:.2f}'.format(df1['Outcome_Type'].mean()), color='orange')\n",
    "\n",
    "_= plt.legend(loc='upper right', prop={'size':20})\n",
    "\n",
    "\n",
    "\n",
    "_= plt.title('Outcome_Type Histogram for the pets', fontsize=20)\n",
    "plt.show()\n",
    "\n",
    ";\n",
    "# Generate boxplot without outliers by all variables except for ID and Data since they are not significant.\n",
    "\n",
    "\n",
    "filt2 = ['Animal_ID','NAME','Adopted Date','Pet DOB','Adopted_Age_Days','Adopted_Age_Months','Adopted_Age_Years','Outcome_Type','Outcome_Subtype','Animal_Type','Sex_On_Adop','Breed','Color','Condition','length(cm)','height(cm)']\n",
    "\n",
    "dff2=df1[filt2]\n",
    "\n",
    "\n",
    "\n",
    "f, ax = plt.subplots(figsize=(20, 14))\n",
    "plt.subplot(2,1,1)\n",
    "fig = sns.boxplot(data=dff, showmeans=True)\n",
    "fig.axis(ymin=0, ymax=5000000)\n",
    "plt.title('Boxplot with outliers',fontsize=20)\n",
    "\n",
    ";\n",
    "plt.subplot(2,1,2)\n",
    "fig2 = sns.boxplot(data=dff2, showmeans=True)\n",
    "fig2.axis(ymin=0, ymax=5000000)\n",
    "plt.title('Boxplot without outliers',fontsize=20)\n",
    ";\n",
    "plt.show()"
   ]
  },
  {
   "cell_type": "code",
   "execution_count": null,
   "metadata": {},
   "outputs": [],
   "source": []
  }
 ],
 "metadata": {
  "kernelspec": {
   "display_name": "Python 3",
   "language": "python",
   "name": "python3"
  },
  "language_info": {
   "codemirror_mode": {
    "name": "ipython",
    "version": 3
   },
   "file_extension": ".py",
   "mimetype": "text/x-python",
   "name": "python",
   "nbconvert_exporter": "python",
   "pygments_lexer": "ipython3",
   "version": "3.8.3"
  }
 },
 "nbformat": 4,
 "nbformat_minor": 4
}
